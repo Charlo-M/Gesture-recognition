{
  "cells": [
    {
      "cell_type": "markdown",
      "metadata": {
        "id": "qX4hozwzI3js"
      },
      "source": [
        "**Import Packages**"
      ]
    },
    {
      "cell_type": "code",
      "execution_count": 1,
      "metadata": {
        "colab": {
          "base_uri": "https://localhost:8080/"
        },
        "id": "D1ZAbRXgI0CO",
        "outputId": "87e8fd2d-d881-4c08-fd1f-6f7e404cb44f"
      },
      "outputs": [
        {
          "output_type": "stream",
          "name": "stdout",
          "text": [
            "Requirement already satisfied: torch in /usr/local/lib/python3.10/dist-packages (2.1.0+cu121)\n",
            "Requirement already satisfied: torchvision in /usr/local/lib/python3.10/dist-packages (0.16.0+cu121)\n",
            "Requirement already satisfied: torchaudio in /usr/local/lib/python3.10/dist-packages (2.1.0+cu121)\n",
            "Collecting torcheval\n",
            "  Downloading torcheval-0.0.7-py3-none-any.whl (179 kB)\n",
            "\u001b[2K     \u001b[90m━━━━━━━━━━━━━━━━━━━━━━━━━━━━━━━━━━━━━━━━\u001b[0m \u001b[32m179.2/179.2 kB\u001b[0m \u001b[31m3.1 MB/s\u001b[0m eta \u001b[36m0:00:00\u001b[0m\n",
            "\u001b[?25hRequirement already satisfied: filelock in /usr/local/lib/python3.10/dist-packages (from torch) (3.13.1)\n",
            "Requirement already satisfied: typing-extensions in /usr/local/lib/python3.10/dist-packages (from torch) (4.5.0)\n",
            "Requirement already satisfied: sympy in /usr/local/lib/python3.10/dist-packages (from torch) (1.12)\n",
            "Requirement already satisfied: networkx in /usr/local/lib/python3.10/dist-packages (from torch) (3.2.1)\n",
            "Requirement already satisfied: jinja2 in /usr/local/lib/python3.10/dist-packages (from torch) (3.1.2)\n",
            "Requirement already satisfied: fsspec in /usr/local/lib/python3.10/dist-packages (from torch) (2023.6.0)\n",
            "Requirement already satisfied: triton==2.1.0 in /usr/local/lib/python3.10/dist-packages (from torch) (2.1.0)\n",
            "Requirement already satisfied: numpy in /usr/local/lib/python3.10/dist-packages (from torchvision) (1.23.5)\n",
            "Requirement already satisfied: requests in /usr/local/lib/python3.10/dist-packages (from torchvision) (2.31.0)\n",
            "Requirement already satisfied: pillow!=8.3.*,>=5.3.0 in /usr/local/lib/python3.10/dist-packages (from torchvision) (9.4.0)\n",
            "Requirement already satisfied: MarkupSafe>=2.0 in /usr/local/lib/python3.10/dist-packages (from jinja2->torch) (2.1.3)\n",
            "Requirement already satisfied: charset-normalizer<4,>=2 in /usr/local/lib/python3.10/dist-packages (from requests->torchvision) (3.3.2)\n",
            "Requirement already satisfied: idna<4,>=2.5 in /usr/local/lib/python3.10/dist-packages (from requests->torchvision) (3.6)\n",
            "Requirement already satisfied: urllib3<3,>=1.21.1 in /usr/local/lib/python3.10/dist-packages (from requests->torchvision) (2.0.7)\n",
            "Requirement already satisfied: certifi>=2017.4.17 in /usr/local/lib/python3.10/dist-packages (from requests->torchvision) (2023.11.17)\n",
            "Requirement already satisfied: mpmath>=0.19 in /usr/local/lib/python3.10/dist-packages (from sympy->torch) (1.3.0)\n",
            "Installing collected packages: torcheval\n",
            "Successfully installed torcheval-0.0.7\n",
            "Requirement already satisfied: pillow in /usr/local/lib/python3.10/dist-packages (9.4.0)\n",
            "Collecting wandb\n",
            "  Downloading wandb-0.16.1-py3-none-any.whl (2.1 MB)\n",
            "\u001b[2K     \u001b[90m━━━━━━━━━━━━━━━━━━━━━━━━━━━━━━━━━━━━━━━━\u001b[0m \u001b[32m2.1/2.1 MB\u001b[0m \u001b[31m10.7 MB/s\u001b[0m eta \u001b[36m0:00:00\u001b[0m\n",
            "\u001b[?25hRequirement already satisfied: Click!=8.0.0,>=7.1 in /usr/local/lib/python3.10/dist-packages (from wandb) (8.1.7)\n",
            "Collecting GitPython!=3.1.29,>=1.0.0 (from wandb)\n",
            "  Downloading GitPython-3.1.40-py3-none-any.whl (190 kB)\n",
            "\u001b[2K     \u001b[90m━━━━━━━━━━━━━━━━━━━━━━━━━━━━━━━━━━━━━━━━\u001b[0m \u001b[32m190.6/190.6 kB\u001b[0m \u001b[31m12.6 MB/s\u001b[0m eta \u001b[36m0:00:00\u001b[0m\n",
            "\u001b[?25hRequirement already satisfied: requests<3,>=2.0.0 in /usr/local/lib/python3.10/dist-packages (from wandb) (2.31.0)\n",
            "Requirement already satisfied: psutil>=5.0.0 in /usr/local/lib/python3.10/dist-packages (from wandb) (5.9.5)\n",
            "Collecting sentry-sdk>=1.0.0 (from wandb)\n",
            "  Downloading sentry_sdk-1.39.1-py2.py3-none-any.whl (254 kB)\n",
            "\u001b[2K     \u001b[90m━━━━━━━━━━━━━━━━━━━━━━━━━━━━━━━━━━━━━━━━\u001b[0m \u001b[32m254.1/254.1 kB\u001b[0m \u001b[31m12.3 MB/s\u001b[0m eta \u001b[36m0:00:00\u001b[0m\n",
            "\u001b[?25hCollecting docker-pycreds>=0.4.0 (from wandb)\n",
            "  Downloading docker_pycreds-0.4.0-py2.py3-none-any.whl (9.0 kB)\n",
            "Requirement already satisfied: PyYAML in /usr/local/lib/python3.10/dist-packages (from wandb) (6.0.1)\n",
            "Collecting setproctitle (from wandb)\n",
            "  Downloading setproctitle-1.3.3-cp310-cp310-manylinux_2_5_x86_64.manylinux1_x86_64.manylinux_2_17_x86_64.manylinux2014_x86_64.whl (30 kB)\n",
            "Requirement already satisfied: setuptools in /usr/local/lib/python3.10/dist-packages (from wandb) (67.7.2)\n",
            "Requirement already satisfied: appdirs>=1.4.3 in /usr/local/lib/python3.10/dist-packages (from wandb) (1.4.4)\n",
            "Requirement already satisfied: protobuf!=4.21.0,<5,>=3.19.0 in /usr/local/lib/python3.10/dist-packages (from wandb) (3.20.3)\n",
            "Requirement already satisfied: six>=1.4.0 in /usr/local/lib/python3.10/dist-packages (from docker-pycreds>=0.4.0->wandb) (1.16.0)\n",
            "Collecting gitdb<5,>=4.0.1 (from GitPython!=3.1.29,>=1.0.0->wandb)\n",
            "  Downloading gitdb-4.0.11-py3-none-any.whl (62 kB)\n",
            "\u001b[2K     \u001b[90m━━━━━━━━━━━━━━━━━━━━━━━━━━━━━━━━━━━━━━━━\u001b[0m \u001b[32m62.7/62.7 kB\u001b[0m \u001b[31m9.4 MB/s\u001b[0m eta \u001b[36m0:00:00\u001b[0m\n",
            "\u001b[?25hRequirement already satisfied: charset-normalizer<4,>=2 in /usr/local/lib/python3.10/dist-packages (from requests<3,>=2.0.0->wandb) (3.3.2)\n",
            "Requirement already satisfied: idna<4,>=2.5 in /usr/local/lib/python3.10/dist-packages (from requests<3,>=2.0.0->wandb) (3.6)\n",
            "Requirement already satisfied: urllib3<3,>=1.21.1 in /usr/local/lib/python3.10/dist-packages (from requests<3,>=2.0.0->wandb) (2.0.7)\n",
            "Requirement already satisfied: certifi>=2017.4.17 in /usr/local/lib/python3.10/dist-packages (from requests<3,>=2.0.0->wandb) (2023.11.17)\n",
            "Collecting smmap<6,>=3.0.1 (from gitdb<5,>=4.0.1->GitPython!=3.1.29,>=1.0.0->wandb)\n",
            "  Downloading smmap-5.0.1-py3-none-any.whl (24 kB)\n",
            "Installing collected packages: smmap, setproctitle, sentry-sdk, docker-pycreds, gitdb, GitPython, wandb\n",
            "Successfully installed GitPython-3.1.40 docker-pycreds-0.4.0 gitdb-4.0.11 sentry-sdk-1.39.1 setproctitle-1.3.3 smmap-5.0.1 wandb-0.16.1\n",
            "Collecting cjm_pil_utils\n",
            "  Downloading cjm_pil_utils-0.0.4-py3-none-any.whl (6.0 kB)\n",
            "Collecting cjm_kaggle_utils\n",
            "  Downloading cjm_kaggle_utils-0.0.5-py3-none-any.whl (4.9 kB)\n",
            "Collecting cjm_pytorch_utils\n",
            "  Downloading cjm_pytorch_utils-0.0.6-py3-none-any.whl (7.3 kB)\n",
            "Collecting cjm_pandas_utils\n",
            "  Downloading cjm_pandas_utils-0.0.3-py3-none-any.whl (4.5 kB)\n",
            "Requirement already satisfied: fastcore in /usr/local/lib/python3.10/dist-packages (from cjm_pil_utils) (1.5.29)\n",
            "Requirement already satisfied: pandas in /usr/local/lib/python3.10/dist-packages (from cjm_pil_utils) (1.5.3)\n",
            "Requirement already satisfied: numpy in /usr/local/lib/python3.10/dist-packages (from cjm_pil_utils) (1.23.5)\n",
            "Requirement already satisfied: pillow in /usr/local/lib/python3.10/dist-packages (from cjm_pil_utils) (9.4.0)\n",
            "Requirement already satisfied: kaggle in /usr/local/lib/python3.10/dist-packages (from cjm_kaggle_utils) (1.5.16)\n",
            "Collecting cjm-psl-utils (from cjm_kaggle_utils)\n",
            "  Downloading cjm_psl_utils-0.0.4-py3-none-any.whl (5.9 kB)\n",
            "Requirement already satisfied: torch in /usr/local/lib/python3.10/dist-packages (from cjm_pytorch_utils) (2.1.0+cu121)\n",
            "Requirement already satisfied: torchvision in /usr/local/lib/python3.10/dist-packages (from cjm_pytorch_utils) (0.16.0+cu121)\n",
            "Requirement already satisfied: tqdm in /usr/local/lib/python3.10/dist-packages (from cjm-psl-utils->cjm_kaggle_utils) (4.66.1)\n",
            "Requirement already satisfied: pip in /usr/local/lib/python3.10/dist-packages (from fastcore->cjm_pil_utils) (23.1.2)\n",
            "Requirement already satisfied: packaging in /usr/local/lib/python3.10/dist-packages (from fastcore->cjm_pil_utils) (23.2)\n",
            "Requirement already satisfied: six>=1.10 in /usr/local/lib/python3.10/dist-packages (from kaggle->cjm_kaggle_utils) (1.16.0)\n",
            "Requirement already satisfied: certifi in /usr/local/lib/python3.10/dist-packages (from kaggle->cjm_kaggle_utils) (2023.11.17)\n",
            "Requirement already satisfied: python-dateutil in /usr/local/lib/python3.10/dist-packages (from kaggle->cjm_kaggle_utils) (2.8.2)\n",
            "Requirement already satisfied: requests in /usr/local/lib/python3.10/dist-packages (from kaggle->cjm_kaggle_utils) (2.31.0)\n",
            "Requirement already satisfied: python-slugify in /usr/local/lib/python3.10/dist-packages (from kaggle->cjm_kaggle_utils) (8.0.1)\n",
            "Requirement already satisfied: urllib3 in /usr/local/lib/python3.10/dist-packages (from kaggle->cjm_kaggle_utils) (2.0.7)\n",
            "Requirement already satisfied: bleach in /usr/local/lib/python3.10/dist-packages (from kaggle->cjm_kaggle_utils) (6.1.0)\n",
            "Requirement already satisfied: pytz>=2020.1 in /usr/local/lib/python3.10/dist-packages (from pandas->cjm_pil_utils) (2023.3.post1)\n",
            "Requirement already satisfied: filelock in /usr/local/lib/python3.10/dist-packages (from torch->cjm_pytorch_utils) (3.13.1)\n",
            "Requirement already satisfied: typing-extensions in /usr/local/lib/python3.10/dist-packages (from torch->cjm_pytorch_utils) (4.5.0)\n",
            "Requirement already satisfied: sympy in /usr/local/lib/python3.10/dist-packages (from torch->cjm_pytorch_utils) (1.12)\n",
            "Requirement already satisfied: networkx in /usr/local/lib/python3.10/dist-packages (from torch->cjm_pytorch_utils) (3.2.1)\n",
            "Requirement already satisfied: jinja2 in /usr/local/lib/python3.10/dist-packages (from torch->cjm_pytorch_utils) (3.1.2)\n",
            "Requirement already satisfied: fsspec in /usr/local/lib/python3.10/dist-packages (from torch->cjm_pytorch_utils) (2023.6.0)\n",
            "Requirement already satisfied: triton==2.1.0 in /usr/local/lib/python3.10/dist-packages (from torch->cjm_pytorch_utils) (2.1.0)\n",
            "Requirement already satisfied: webencodings in /usr/local/lib/python3.10/dist-packages (from bleach->kaggle->cjm_kaggle_utils) (0.5.1)\n",
            "Requirement already satisfied: MarkupSafe>=2.0 in /usr/local/lib/python3.10/dist-packages (from jinja2->torch->cjm_pytorch_utils) (2.1.3)\n",
            "Requirement already satisfied: text-unidecode>=1.3 in /usr/local/lib/python3.10/dist-packages (from python-slugify->kaggle->cjm_kaggle_utils) (1.3)\n",
            "Requirement already satisfied: charset-normalizer<4,>=2 in /usr/local/lib/python3.10/dist-packages (from requests->kaggle->cjm_kaggle_utils) (3.3.2)\n",
            "Requirement already satisfied: idna<4,>=2.5 in /usr/local/lib/python3.10/dist-packages (from requests->kaggle->cjm_kaggle_utils) (3.6)\n",
            "Requirement already satisfied: mpmath>=0.19 in /usr/local/lib/python3.10/dist-packages (from sympy->torch->cjm_pytorch_utils) (1.3.0)\n",
            "Installing collected packages: cjm-psl-utils, cjm_pil_utils, cjm_pandas_utils, cjm_kaggle_utils, cjm_pytorch_utils\n",
            "Successfully installed cjm-psl-utils-0.0.4 cjm_kaggle_utils-0.0.5 cjm_pandas_utils-0.0.3 cjm_pil_utils-0.0.4 cjm_pytorch_utils-0.0.6\n"
          ]
        }
      ],
      "source": [
        "!pip install torch torchvision torchaudio torcheval\n",
        "!pip install pillow wandb\n",
        "!pip install cjm_pil_utils cjm_kaggle_utils cjm_pytorch_utils cjm_pandas_utils"
      ]
    },
    {
      "cell_type": "code",
      "execution_count": 2,
      "metadata": {
        "colab": {
          "base_uri": "https://localhost:8080/"
        },
        "id": "eiUneEqYJTUV",
        "outputId": "44c43eab-d2a3-4705-c116-6321bdcb5a6b"
      },
      "outputs": [
        {
          "output_type": "stream",
          "name": "stdout",
          "text": [
            "Collecting timm\n",
            "  Downloading timm-0.9.12-py3-none-any.whl (2.2 MB)\n",
            "\u001b[2K     \u001b[90m━━━━━━━━━━━━━━━━━━━━━━━━━━━━━━━━━━━━━━━━\u001b[0m \u001b[32m2.2/2.2 MB\u001b[0m \u001b[31m10.4 MB/s\u001b[0m eta \u001b[36m0:00:00\u001b[0m\n",
            "\u001b[?25hRequirement already satisfied: torch>=1.7 in /usr/local/lib/python3.10/dist-packages (from timm) (2.1.0+cu121)\n",
            "Requirement already satisfied: torchvision in /usr/local/lib/python3.10/dist-packages (from timm) (0.16.0+cu121)\n",
            "Requirement already satisfied: pyyaml in /usr/local/lib/python3.10/dist-packages (from timm) (6.0.1)\n",
            "Requirement already satisfied: huggingface-hub in /usr/local/lib/python3.10/dist-packages (from timm) (0.19.4)\n",
            "Requirement already satisfied: safetensors in /usr/local/lib/python3.10/dist-packages (from timm) (0.4.1)\n",
            "Requirement already satisfied: filelock in /usr/local/lib/python3.10/dist-packages (from torch>=1.7->timm) (3.13.1)\n",
            "Requirement already satisfied: typing-extensions in /usr/local/lib/python3.10/dist-packages (from torch>=1.7->timm) (4.5.0)\n",
            "Requirement already satisfied: sympy in /usr/local/lib/python3.10/dist-packages (from torch>=1.7->timm) (1.12)\n",
            "Requirement already satisfied: networkx in /usr/local/lib/python3.10/dist-packages (from torch>=1.7->timm) (3.2.1)\n",
            "Requirement already satisfied: jinja2 in /usr/local/lib/python3.10/dist-packages (from torch>=1.7->timm) (3.1.2)\n",
            "Requirement already satisfied: fsspec in /usr/local/lib/python3.10/dist-packages (from torch>=1.7->timm) (2023.6.0)\n",
            "Requirement already satisfied: triton==2.1.0 in /usr/local/lib/python3.10/dist-packages (from torch>=1.7->timm) (2.1.0)\n",
            "Requirement already satisfied: requests in /usr/local/lib/python3.10/dist-packages (from huggingface-hub->timm) (2.31.0)\n",
            "Requirement already satisfied: tqdm>=4.42.1 in /usr/local/lib/python3.10/dist-packages (from huggingface-hub->timm) (4.66.1)\n",
            "Requirement already satisfied: packaging>=20.9 in /usr/local/lib/python3.10/dist-packages (from huggingface-hub->timm) (23.2)\n",
            "Requirement already satisfied: numpy in /usr/local/lib/python3.10/dist-packages (from torchvision->timm) (1.23.5)\n",
            "Requirement already satisfied: pillow!=8.3.*,>=5.3.0 in /usr/local/lib/python3.10/dist-packages (from torchvision->timm) (9.4.0)\n",
            "Requirement already satisfied: MarkupSafe>=2.0 in /usr/local/lib/python3.10/dist-packages (from jinja2->torch>=1.7->timm) (2.1.3)\n",
            "Requirement already satisfied: charset-normalizer<4,>=2 in /usr/local/lib/python3.10/dist-packages (from requests->huggingface-hub->timm) (3.3.2)\n",
            "Requirement already satisfied: idna<4,>=2.5 in /usr/local/lib/python3.10/dist-packages (from requests->huggingface-hub->timm) (3.6)\n",
            "Requirement already satisfied: urllib3<3,>=1.21.1 in /usr/local/lib/python3.10/dist-packages (from requests->huggingface-hub->timm) (2.0.7)\n",
            "Requirement already satisfied: certifi>=2017.4.17 in /usr/local/lib/python3.10/dist-packages (from requests->huggingface-hub->timm) (2023.11.17)\n",
            "Requirement already satisfied: mpmath>=0.19 in /usr/local/lib/python3.10/dist-packages (from sympy->torch>=1.7->timm) (1.3.0)\n",
            "Installing collected packages: timm\n",
            "Successfully installed timm-0.9.12\n"
          ]
        }
      ],
      "source": [
        "!pip install timm"
      ]
    },
    {
      "cell_type": "code",
      "execution_count": 3,
      "metadata": {
        "colab": {
          "base_uri": "https://localhost:8080/"
        },
        "id": "gAl6yKXpMtK4",
        "outputId": "2ff7c823-3d98-494b-e9dd-fade714afc38"
      },
      "outputs": [
        {
          "output_type": "stream",
          "name": "stdout",
          "text": [
            "Collecting ray[tune]\n",
            "  Downloading ray-2.8.1-cp310-cp310-manylinux2014_x86_64.whl (62.6 MB)\n",
            "\u001b[2K     \u001b[90m━━━━━━━━━━━━━━━━━━━━━━━━━━━━━━━━━━━━━━━━\u001b[0m \u001b[32m62.6/62.6 MB\u001b[0m \u001b[31m26.9 MB/s\u001b[0m eta \u001b[36m0:00:00\u001b[0m\n",
            "\u001b[?25hRequirement already satisfied: click>=7.0 in /usr/local/lib/python3.10/dist-packages (from ray[tune]) (8.1.7)\n",
            "Requirement already satisfied: filelock in /usr/local/lib/python3.10/dist-packages (from ray[tune]) (3.13.1)\n",
            "Requirement already satisfied: jsonschema in /usr/local/lib/python3.10/dist-packages (from ray[tune]) (4.19.2)\n",
            "Requirement already satisfied: msgpack<2.0.0,>=1.0.0 in /usr/local/lib/python3.10/dist-packages (from ray[tune]) (1.0.7)\n",
            "Requirement already satisfied: packaging in /usr/local/lib/python3.10/dist-packages (from ray[tune]) (23.2)\n",
            "Requirement already satisfied: protobuf!=3.19.5,>=3.15.3 in /usr/local/lib/python3.10/dist-packages (from ray[tune]) (3.20.3)\n",
            "Requirement already satisfied: pyyaml in /usr/local/lib/python3.10/dist-packages (from ray[tune]) (6.0.1)\n",
            "Requirement already satisfied: aiosignal in /usr/local/lib/python3.10/dist-packages (from ray[tune]) (1.3.1)\n",
            "Requirement already satisfied: frozenlist in /usr/local/lib/python3.10/dist-packages (from ray[tune]) (1.4.0)\n",
            "Requirement already satisfied: requests in /usr/local/lib/python3.10/dist-packages (from ray[tune]) (2.31.0)\n",
            "Requirement already satisfied: numpy>=1.19.3 in /usr/local/lib/python3.10/dist-packages (from ray[tune]) (1.23.5)\n",
            "Requirement already satisfied: pandas in /usr/local/lib/python3.10/dist-packages (from ray[tune]) (1.5.3)\n",
            "Collecting tensorboardX>=1.9 (from ray[tune])\n",
            "  Downloading tensorboardX-2.6.2.2-py2.py3-none-any.whl (101 kB)\n",
            "\u001b[2K     \u001b[90m━━━━━━━━━━━━━━━━━━━━━━━━━━━━━━━━━━━━━━━━\u001b[0m \u001b[32m101.7/101.7 kB\u001b[0m \u001b[31m15.5 MB/s\u001b[0m eta \u001b[36m0:00:00\u001b[0m\n",
            "\u001b[?25hRequirement already satisfied: pyarrow>=6.0.1 in /usr/local/lib/python3.10/dist-packages (from ray[tune]) (10.0.1)\n",
            "Requirement already satisfied: fsspec in /usr/local/lib/python3.10/dist-packages (from ray[tune]) (2023.6.0)\n",
            "Requirement already satisfied: attrs>=22.2.0 in /usr/local/lib/python3.10/dist-packages (from jsonschema->ray[tune]) (23.1.0)\n",
            "Requirement already satisfied: jsonschema-specifications>=2023.03.6 in /usr/local/lib/python3.10/dist-packages (from jsonschema->ray[tune]) (2023.11.2)\n",
            "Requirement already satisfied: referencing>=0.28.4 in /usr/local/lib/python3.10/dist-packages (from jsonschema->ray[tune]) (0.32.0)\n",
            "Requirement already satisfied: rpds-py>=0.7.1 in /usr/local/lib/python3.10/dist-packages (from jsonschema->ray[tune]) (0.13.2)\n",
            "Requirement already satisfied: python-dateutil>=2.8.1 in /usr/local/lib/python3.10/dist-packages (from pandas->ray[tune]) (2.8.2)\n",
            "Requirement already satisfied: pytz>=2020.1 in /usr/local/lib/python3.10/dist-packages (from pandas->ray[tune]) (2023.3.post1)\n",
            "Requirement already satisfied: charset-normalizer<4,>=2 in /usr/local/lib/python3.10/dist-packages (from requests->ray[tune]) (3.3.2)\n",
            "Requirement already satisfied: idna<4,>=2.5 in /usr/local/lib/python3.10/dist-packages (from requests->ray[tune]) (3.6)\n",
            "Requirement already satisfied: urllib3<3,>=1.21.1 in /usr/local/lib/python3.10/dist-packages (from requests->ray[tune]) (2.0.7)\n",
            "Requirement already satisfied: certifi>=2017.4.17 in /usr/local/lib/python3.10/dist-packages (from requests->ray[tune]) (2023.11.17)\n",
            "Requirement already satisfied: six>=1.5 in /usr/local/lib/python3.10/dist-packages (from python-dateutil>=2.8.1->pandas->ray[tune]) (1.16.0)\n",
            "Installing collected packages: tensorboardX, ray\n",
            "Successfully installed ray-2.8.1 tensorboardX-2.6.2.2\n"
          ]
        }
      ],
      "source": [
        "!pip install -U \"ray[tune]\""
      ]
    },
    {
      "cell_type": "code",
      "execution_count": 4,
      "metadata": {
        "id": "3T2vMjXlI2nF"
      },
      "outputs": [],
      "source": [
        "from pathlib import Path\n",
        "import hashlib\n",
        "import json\n",
        "import random\n",
        "import multiprocessing\n",
        "import math\n",
        "import os\n",
        "from functools import partial\n",
        "from copy import copy\n",
        "from glob import glob\n",
        "\n",
        "from PIL import Image\n",
        "import numpy as np\n",
        "import timm\n",
        "from tqdm.auto import tqdm\n",
        "\n",
        "# Import pandas module for data manipulation\n",
        "import pandas as pd\n",
        "\n",
        "# Set options for Pandas DataFrame display\n",
        "pd.set_option('max_colwidth', None)  # Do not truncate the contents of cells in the DataFrame\n",
        "pd.set_option('display.max_rows', None)  # Display all rows in the DataFrame\n",
        "pd.set_option('display.max_columns', None)  # Display all columns in the DataFrame\n",
        "\n",
        "# Import PyTorch dependencies\n",
        "import torch\n",
        "import torch.nn as nn\n",
        "import torch.optim as optim\n",
        "from torchvision import datasets, transforms, models\n",
        "import torchvision.transforms.functional as TF\n",
        "from torch.utils.data import Dataset, DataLoader\n",
        "#from torcheval.tools import get_module_summary\n",
        "from torcheval.metrics import MulticlassAccuracy\n",
        "\n",
        "# Import miniai dependencies\n",
        "import fastcore.all as fc\n",
        "'''\n",
        "from miniai.datasets import DataLoaders\n",
        "from miniai.conv import def_device\n",
        "from miniai.learner import *\n",
        "from miniai.activations import Hook, ActivationStats\n",
        "from miniai.accel import MixedPrecision, AccelerateCB\n",
        "from miniai.init import BatchTransformCB, GeneralRelu, init_weights, set_seed, conv\n",
        "from miniai.sgd import BatchSchedCB\n",
        "from miniai.resnet import ResBlock\n",
        "'''\n",
        "# Import utility functions\n",
        "from cjm_kaggle_utils.core import save_kaggle_creds, dl_kaggle\n",
        "from cjm_pil_utils.core import resize_img, get_img_files, stack_imgs\n",
        "from cjm_pytorch_utils.core import pil_to_tensor, tensor_to_pil, tensor_stats_df, get_torch_device, denorm_img_tensor\n",
        "from cjm_pandas_utils.core import markdown_to_pandas"
      ]
    },
    {
      "cell_type": "code",
      "execution_count": 5,
      "metadata": {
        "id": "S6qrCSmXMuEj"
      },
      "outputs": [],
      "source": [
        "import ray\n",
        "from ray import tune\n",
        "from ray import train"
      ]
    },
    {
      "cell_type": "code",
      "execution_count": 6,
      "metadata": {
        "id": "QnbQ3RWfJFoI"
      },
      "outputs": [],
      "source": [
        "username = \"jwang1031\"\n",
        "key = \"e984afe21a1f3299c262cdea0a817209\"\n",
        "save_kaggle_creds(username, key, overwrite=False)"
      ]
    },
    {
      "cell_type": "markdown",
      "metadata": {
        "id": "zs7hBhb3JJN-"
      },
      "source": [
        "**Data Retrival from Kaggle**"
      ]
    },
    {
      "cell_type": "code",
      "execution_count": 7,
      "metadata": {
        "colab": {
          "base_uri": "https://localhost:8080/"
        },
        "id": "mBQHWyBjJJAv",
        "outputId": "018b7549-35e3-4571-afaf-19966942b504"
      },
      "outputs": [
        {
          "output_type": "stream",
          "name": "stdout",
          "text": [
            "Dataset Directory: /mnt/980_1TB_2/Datasets\n",
            "Archive Directory: /mnt/980_1TB_2/Datasets/../Archive\n"
          ]
        }
      ],
      "source": [
        "# Define path to store datasets\n",
        "dataset_dir = Path(\"/mnt/980_1TB_2/Datasets/\")\n",
        "# Create the dataset directory if it does not exist\n",
        "dataset_dir.mkdir(parents=True, exist_ok=True)\n",
        "print(f\"Dataset Directory: {dataset_dir}\")\n",
        "\n",
        "# Define path to store archive files\n",
        "archive_dir = dataset_dir/'../Archive'\n",
        "# Create the archive directory if it does not exist\n",
        "archive_dir.mkdir(parents=True, exist_ok=True)\n",
        "print(f\"Archive Directory: {archive_dir}\")"
      ]
    },
    {
      "cell_type": "code",
      "execution_count": 8,
      "metadata": {
        "colab": {
          "base_uri": "https://localhost:8080/"
        },
        "id": "V200OWlaJHld",
        "outputId": "c89d272d-4aeb-4e89-dcf4-aa1c58035c9c"
      },
      "outputs": [
        {
          "output_type": "stream",
          "name": "stdout",
          "text": [
            "Archive Path: /mnt/980_1TB_2/Datasets/../Archive/hagrid-classification-512p-no-gesture-150k.zip\n",
            "Dataset Path: /mnt/980_1TB_2/Datasets/hagrid-classification-512p-no-gesture-150k\n"
          ]
        }
      ],
      "source": [
        "# Set the name of the dataset\n",
        "dataset_name = 'hagrid-classification-512p-no-gesture-150k'\n",
        "\n",
        "# Construct the Kaggle dataset name by combining the username and dataset name\n",
        "kaggle_dataset = f'innominate817/{dataset_name}'\n",
        "\n",
        "# Create the path to the zip file that contains the dataset\n",
        "archive_path = Path(f'{archive_dir}/{dataset_name}.zip')\n",
        "print(f\"Archive Path: {archive_path}\")\n",
        "\n",
        "# Create the path to the directory where the dataset will be extracted\n",
        "dataset_path = Path(f'{dataset_dir}/{dataset_name}')\n",
        "print(f\"Dataset Path: {dataset_path}\")"
      ]
    },
    {
      "cell_type": "code",
      "execution_count": 9,
      "metadata": {
        "colab": {
          "base_uri": "https://localhost:8080/"
        },
        "id": "f0oCradlJG8A",
        "outputId": "8f48ce8d-6bd2-4ae7-c596-818534dcec19"
      },
      "outputs": [
        {
          "output_type": "stream",
          "name": "stdout",
          "text": [
            "Downloading hagrid-classification-512p-no-gesture-150k.zip to /mnt/980_1TB_2/Datasets/../Archive\n"
          ]
        },
        {
          "output_type": "stream",
          "name": "stderr",
          "text": [
            "100%|██████████| 3.55G/3.55G [00:34<00:00, 110MB/s] \n"
          ]
        },
        {
          "output_type": "stream",
          "name": "stdout",
          "text": [
            "\n"
          ]
        }
      ],
      "source": [
        "dl_kaggle(kaggle_dataset, archive_path, dataset_path)"
      ]
    },
    {
      "cell_type": "markdown",
      "metadata": {
        "id": "p8ZcQixuJg67"
      },
      "source": [
        "*Note: 19 classes in total*"
      ]
    },
    {
      "cell_type": "code",
      "execution_count": 10,
      "metadata": {
        "colab": {
          "base_uri": "https://localhost:8080/",
          "height": 645
        },
        "id": "l3glZRllJeIf",
        "outputId": "3c4725b8-275a-45b1-e0db-dee41ebd19fd"
      },
      "outputs": [
        {
          "output_type": "execute_result",
          "data": {
            "text/plain": [
              "                  0\n",
              "0            two_up\n",
              "1            three2\n",
              "2   two_up_inverted\n",
              "3              four\n",
              "4               one\n",
              "5              call\n",
              "6             peace\n",
              "7              stop\n",
              "8    peace_inverted\n",
              "9        no_gesture\n",
              "10             palm\n",
              "11             like\n",
              "12            three\n",
              "13               ok\n",
              "14    stop_inverted\n",
              "15             rock\n",
              "16          dislike\n",
              "17             fist\n",
              "18             mute"
            ],
            "text/html": [
              "\n",
              "  <div id=\"df-8026f56f-85dd-44bd-bd1f-efb195723c8b\" class=\"colab-df-container\">\n",
              "    <div>\n",
              "<style scoped>\n",
              "    .dataframe tbody tr th:only-of-type {\n",
              "        vertical-align: middle;\n",
              "    }\n",
              "\n",
              "    .dataframe tbody tr th {\n",
              "        vertical-align: top;\n",
              "    }\n",
              "\n",
              "    .dataframe thead th {\n",
              "        text-align: right;\n",
              "    }\n",
              "</style>\n",
              "<table border=\"1\" class=\"dataframe\">\n",
              "  <thead>\n",
              "    <tr style=\"text-align: right;\">\n",
              "      <th></th>\n",
              "      <th>0</th>\n",
              "    </tr>\n",
              "  </thead>\n",
              "  <tbody>\n",
              "    <tr>\n",
              "      <th>0</th>\n",
              "      <td>two_up</td>\n",
              "    </tr>\n",
              "    <tr>\n",
              "      <th>1</th>\n",
              "      <td>three2</td>\n",
              "    </tr>\n",
              "    <tr>\n",
              "      <th>2</th>\n",
              "      <td>two_up_inverted</td>\n",
              "    </tr>\n",
              "    <tr>\n",
              "      <th>3</th>\n",
              "      <td>four</td>\n",
              "    </tr>\n",
              "    <tr>\n",
              "      <th>4</th>\n",
              "      <td>one</td>\n",
              "    </tr>\n",
              "    <tr>\n",
              "      <th>5</th>\n",
              "      <td>call</td>\n",
              "    </tr>\n",
              "    <tr>\n",
              "      <th>6</th>\n",
              "      <td>peace</td>\n",
              "    </tr>\n",
              "    <tr>\n",
              "      <th>7</th>\n",
              "      <td>stop</td>\n",
              "    </tr>\n",
              "    <tr>\n",
              "      <th>8</th>\n",
              "      <td>peace_inverted</td>\n",
              "    </tr>\n",
              "    <tr>\n",
              "      <th>9</th>\n",
              "      <td>no_gesture</td>\n",
              "    </tr>\n",
              "    <tr>\n",
              "      <th>10</th>\n",
              "      <td>palm</td>\n",
              "    </tr>\n",
              "    <tr>\n",
              "      <th>11</th>\n",
              "      <td>like</td>\n",
              "    </tr>\n",
              "    <tr>\n",
              "      <th>12</th>\n",
              "      <td>three</td>\n",
              "    </tr>\n",
              "    <tr>\n",
              "      <th>13</th>\n",
              "      <td>ok</td>\n",
              "    </tr>\n",
              "    <tr>\n",
              "      <th>14</th>\n",
              "      <td>stop_inverted</td>\n",
              "    </tr>\n",
              "    <tr>\n",
              "      <th>15</th>\n",
              "      <td>rock</td>\n",
              "    </tr>\n",
              "    <tr>\n",
              "      <th>16</th>\n",
              "      <td>dislike</td>\n",
              "    </tr>\n",
              "    <tr>\n",
              "      <th>17</th>\n",
              "      <td>fist</td>\n",
              "    </tr>\n",
              "    <tr>\n",
              "      <th>18</th>\n",
              "      <td>mute</td>\n",
              "    </tr>\n",
              "  </tbody>\n",
              "</table>\n",
              "</div>\n",
              "    <div class=\"colab-df-buttons\">\n",
              "\n",
              "  <div class=\"colab-df-container\">\n",
              "    <button class=\"colab-df-convert\" onclick=\"convertToInteractive('df-8026f56f-85dd-44bd-bd1f-efb195723c8b')\"\n",
              "            title=\"Convert this dataframe to an interactive table.\"\n",
              "            style=\"display:none;\">\n",
              "\n",
              "  <svg xmlns=\"http://www.w3.org/2000/svg\" height=\"24px\" viewBox=\"0 -960 960 960\">\n",
              "    <path d=\"M120-120v-720h720v720H120Zm60-500h600v-160H180v160Zm220 220h160v-160H400v160Zm0 220h160v-160H400v160ZM180-400h160v-160H180v160Zm440 0h160v-160H620v160ZM180-180h160v-160H180v160Zm440 0h160v-160H620v160Z\"/>\n",
              "  </svg>\n",
              "    </button>\n",
              "\n",
              "  <style>\n",
              "    .colab-df-container {\n",
              "      display:flex;\n",
              "      gap: 12px;\n",
              "    }\n",
              "\n",
              "    .colab-df-convert {\n",
              "      background-color: #E8F0FE;\n",
              "      border: none;\n",
              "      border-radius: 50%;\n",
              "      cursor: pointer;\n",
              "      display: none;\n",
              "      fill: #1967D2;\n",
              "      height: 32px;\n",
              "      padding: 0 0 0 0;\n",
              "      width: 32px;\n",
              "    }\n",
              "\n",
              "    .colab-df-convert:hover {\n",
              "      background-color: #E2EBFA;\n",
              "      box-shadow: 0px 1px 2px rgba(60, 64, 67, 0.3), 0px 1px 3px 1px rgba(60, 64, 67, 0.15);\n",
              "      fill: #174EA6;\n",
              "    }\n",
              "\n",
              "    .colab-df-buttons div {\n",
              "      margin-bottom: 4px;\n",
              "    }\n",
              "\n",
              "    [theme=dark] .colab-df-convert {\n",
              "      background-color: #3B4455;\n",
              "      fill: #D2E3FC;\n",
              "    }\n",
              "\n",
              "    [theme=dark] .colab-df-convert:hover {\n",
              "      background-color: #434B5C;\n",
              "      box-shadow: 0px 1px 3px 1px rgba(0, 0, 0, 0.15);\n",
              "      filter: drop-shadow(0px 1px 2px rgba(0, 0, 0, 0.3));\n",
              "      fill: #FFFFFF;\n",
              "    }\n",
              "  </style>\n",
              "\n",
              "    <script>\n",
              "      const buttonEl =\n",
              "        document.querySelector('#df-8026f56f-85dd-44bd-bd1f-efb195723c8b button.colab-df-convert');\n",
              "      buttonEl.style.display =\n",
              "        google.colab.kernel.accessAllowed ? 'block' : 'none';\n",
              "\n",
              "      async function convertToInteractive(key) {\n",
              "        const element = document.querySelector('#df-8026f56f-85dd-44bd-bd1f-efb195723c8b');\n",
              "        const dataTable =\n",
              "          await google.colab.kernel.invokeFunction('convertToInteractive',\n",
              "                                                    [key], {});\n",
              "        if (!dataTable) return;\n",
              "\n",
              "        const docLinkHtml = 'Like what you see? Visit the ' +\n",
              "          '<a target=\"_blank\" href=https://colab.research.google.com/notebooks/data_table.ipynb>data table notebook</a>'\n",
              "          + ' to learn more about interactive tables.';\n",
              "        element.innerHTML = '';\n",
              "        dataTable['output_type'] = 'display_data';\n",
              "        await google.colab.output.renderOutput(dataTable, element);\n",
              "        const docLink = document.createElement('div');\n",
              "        docLink.innerHTML = docLinkHtml;\n",
              "        element.appendChild(docLink);\n",
              "      }\n",
              "    </script>\n",
              "  </div>\n",
              "\n",
              "\n",
              "<div id=\"df-df0b9f21-b9ff-4817-993e-f6b33da73a91\">\n",
              "  <button class=\"colab-df-quickchart\" onclick=\"quickchart('df-df0b9f21-b9ff-4817-993e-f6b33da73a91')\"\n",
              "            title=\"Suggest charts\"\n",
              "            style=\"display:none;\">\n",
              "\n",
              "<svg xmlns=\"http://www.w3.org/2000/svg\" height=\"24px\"viewBox=\"0 0 24 24\"\n",
              "     width=\"24px\">\n",
              "    <g>\n",
              "        <path d=\"M19 3H5c-1.1 0-2 .9-2 2v14c0 1.1.9 2 2 2h14c1.1 0 2-.9 2-2V5c0-1.1-.9-2-2-2zM9 17H7v-7h2v7zm4 0h-2V7h2v10zm4 0h-2v-4h2v4z\"/>\n",
              "    </g>\n",
              "</svg>\n",
              "  </button>\n",
              "\n",
              "<style>\n",
              "  .colab-df-quickchart {\n",
              "      --bg-color: #E8F0FE;\n",
              "      --fill-color: #1967D2;\n",
              "      --hover-bg-color: #E2EBFA;\n",
              "      --hover-fill-color: #174EA6;\n",
              "      --disabled-fill-color: #AAA;\n",
              "      --disabled-bg-color: #DDD;\n",
              "  }\n",
              "\n",
              "  [theme=dark] .colab-df-quickchart {\n",
              "      --bg-color: #3B4455;\n",
              "      --fill-color: #D2E3FC;\n",
              "      --hover-bg-color: #434B5C;\n",
              "      --hover-fill-color: #FFFFFF;\n",
              "      --disabled-bg-color: #3B4455;\n",
              "      --disabled-fill-color: #666;\n",
              "  }\n",
              "\n",
              "  .colab-df-quickchart {\n",
              "    background-color: var(--bg-color);\n",
              "    border: none;\n",
              "    border-radius: 50%;\n",
              "    cursor: pointer;\n",
              "    display: none;\n",
              "    fill: var(--fill-color);\n",
              "    height: 32px;\n",
              "    padding: 0;\n",
              "    width: 32px;\n",
              "  }\n",
              "\n",
              "  .colab-df-quickchart:hover {\n",
              "    background-color: var(--hover-bg-color);\n",
              "    box-shadow: 0 1px 2px rgba(60, 64, 67, 0.3), 0 1px 3px 1px rgba(60, 64, 67, 0.15);\n",
              "    fill: var(--button-hover-fill-color);\n",
              "  }\n",
              "\n",
              "  .colab-df-quickchart-complete:disabled,\n",
              "  .colab-df-quickchart-complete:disabled:hover {\n",
              "    background-color: var(--disabled-bg-color);\n",
              "    fill: var(--disabled-fill-color);\n",
              "    box-shadow: none;\n",
              "  }\n",
              "\n",
              "  .colab-df-spinner {\n",
              "    border: 2px solid var(--fill-color);\n",
              "    border-color: transparent;\n",
              "    border-bottom-color: var(--fill-color);\n",
              "    animation:\n",
              "      spin 1s steps(1) infinite;\n",
              "  }\n",
              "\n",
              "  @keyframes spin {\n",
              "    0% {\n",
              "      border-color: transparent;\n",
              "      border-bottom-color: var(--fill-color);\n",
              "      border-left-color: var(--fill-color);\n",
              "    }\n",
              "    20% {\n",
              "      border-color: transparent;\n",
              "      border-left-color: var(--fill-color);\n",
              "      border-top-color: var(--fill-color);\n",
              "    }\n",
              "    30% {\n",
              "      border-color: transparent;\n",
              "      border-left-color: var(--fill-color);\n",
              "      border-top-color: var(--fill-color);\n",
              "      border-right-color: var(--fill-color);\n",
              "    }\n",
              "    40% {\n",
              "      border-color: transparent;\n",
              "      border-right-color: var(--fill-color);\n",
              "      border-top-color: var(--fill-color);\n",
              "    }\n",
              "    60% {\n",
              "      border-color: transparent;\n",
              "      border-right-color: var(--fill-color);\n",
              "    }\n",
              "    80% {\n",
              "      border-color: transparent;\n",
              "      border-right-color: var(--fill-color);\n",
              "      border-bottom-color: var(--fill-color);\n",
              "    }\n",
              "    90% {\n",
              "      border-color: transparent;\n",
              "      border-bottom-color: var(--fill-color);\n",
              "    }\n",
              "  }\n",
              "</style>\n",
              "\n",
              "  <script>\n",
              "    async function quickchart(key) {\n",
              "      const quickchartButtonEl =\n",
              "        document.querySelector('#' + key + ' button');\n",
              "      quickchartButtonEl.disabled = true;  // To prevent multiple clicks.\n",
              "      quickchartButtonEl.classList.add('colab-df-spinner');\n",
              "      try {\n",
              "        const charts = await google.colab.kernel.invokeFunction(\n",
              "            'suggestCharts', [key], {});\n",
              "      } catch (error) {\n",
              "        console.error('Error during call to suggestCharts:', error);\n",
              "      }\n",
              "      quickchartButtonEl.classList.remove('colab-df-spinner');\n",
              "      quickchartButtonEl.classList.add('colab-df-quickchart-complete');\n",
              "    }\n",
              "    (() => {\n",
              "      let quickchartButtonEl =\n",
              "        document.querySelector('#df-df0b9f21-b9ff-4817-993e-f6b33da73a91 button');\n",
              "      quickchartButtonEl.style.display =\n",
              "        google.colab.kernel.accessAllowed ? 'block' : 'none';\n",
              "    })();\n",
              "  </script>\n",
              "</div>\n",
              "    </div>\n",
              "  </div>\n"
            ]
          },
          "metadata": {},
          "execution_count": 10
        }
      ],
      "source": [
        "# Get all subfolders within the dataset_path\n",
        "folders = [folder for folder in dataset_path.glob('*/') if folder.is_dir()]\n",
        "\n",
        "# Store the folder names\n",
        "class_names = [f.name for f in folders]\n",
        "\n",
        "# Print the list of class names\n",
        "pd.DataFrame(class_names)"
      ]
    },
    {
      "cell_type": "code",
      "execution_count": 11,
      "metadata": {
        "colab": {
          "base_uri": "https://localhost:8080/"
        },
        "id": "X1_j8dTnJkZQ",
        "outputId": "eb8b7da9-c542-4709-f3de-b23ae9d22fe6"
      },
      "outputs": [
        {
          "output_type": "execute_result",
          "data": {
            "text/plain": [
              "153735"
            ]
          },
          "metadata": {},
          "execution_count": 11
        }
      ],
      "source": [
        "# Get a list of all image file paths from the given folders\n",
        "img_paths = [get_img_files(folder) for folder in folders]\n",
        "\n",
        "# Flatten the list of lists into a single list\n",
        "img_paths = [path for class_paths in img_paths for path in class_paths]\n",
        "\n",
        "# Get the number of image file paths\n",
        "len(img_paths)"
      ]
    },
    {
      "cell_type": "markdown",
      "metadata": {
        "id": "PMkUSG8eKrnr"
      },
      "source": [
        "**Display Sample Image**"
      ]
    },
    {
      "cell_type": "code",
      "execution_count": 12,
      "metadata": {
        "colab": {
          "base_uri": "https://localhost:8080/",
          "height": 546
        },
        "id": "R1CNyuwdKvA5",
        "outputId": "01b97c72-e07e-459e-84d4-f0173bf5dffc"
      },
      "outputs": [
        {
          "output_type": "stream",
          "name": "stdout",
          "text": [
            "Class: two_up\n"
          ]
        },
        {
          "output_type": "execute_result",
          "data": {
            "text/plain": [
              "<PIL.JpegImagePlugin.JpegImageFile image mode=RGB size=512x512>"
            ],
            "image/png": "[encoded data removed]"
          },
          "metadata": {},
          "execution_count": 12
        }
      ],
      "source": [
        "# Select a random image path from the list of image paths\n",
        "img_path = random.choice(img_paths)\n",
        "\n",
        "# Print the name of the class of the image, which is the name of the parent folder\n",
        "print(f\"Class: {img_path.parent.name}\")\n",
        "\n",
        "# Open the image using the path\n",
        "sample_img = Image.open(img_path)\n",
        "\n",
        "# Display the image\n",
        "sample_img"
      ]
    },
    {
      "cell_type": "markdown",
      "metadata": {
        "id": "JnDVy1EYJsax"
      },
      "source": [
        "**Data Transformation**"
      ]
    },
    {
      "cell_type": "code",
      "execution_count": 13,
      "metadata": {
        "colab": {
          "base_uri": "https://localhost:8080/"
        },
        "id": "FwOSaouwJqDj",
        "outputId": "08843412-4dae-4879-9986-6b6b7d78dc0b"
      },
      "outputs": [
        {
          "output_type": "execute_result",
          "data": {
            "text/plain": [
              "((0.485, 0.456, 0.406), (0.229, 0.224, 0.225))"
            ]
          },
          "metadata": {},
          "execution_count": 13
        }
      ],
      "source": [
        "norm_stats = ((0.485, 0.456, 0.406), (0.229, 0.224, 0.225))\n",
        "norm_stats"
      ]
    },
    {
      "cell_type": "code",
      "execution_count": 14,
      "metadata": {
        "id": "p8ViTL69K0xY"
      },
      "outputs": [],
      "source": [
        "# ensure the image transforming into appropriate size for model\n",
        "train_sz = (288,288)"
      ]
    },
    {
      "cell_type": "code",
      "execution_count": 15,
      "metadata": {
        "colab": {
          "base_uri": "https://localhost:8080/"
        },
        "id": "RAFhm1O1JrJ-",
        "outputId": "b484aa33-c5f3-4a2d-ce62-a2bfc3f4b3ac"
      },
      "outputs": [
        {
          "output_type": "execute_result",
          "data": {
            "text/plain": [
              "(138361, 15374)"
            ]
          },
          "metadata": {},
          "execution_count": 15
        }
      ],
      "source": [
        "# Shuffle the image paths\n",
        "random.shuffle(img_paths)\n",
        "\n",
        "# Define the percentage of the images that should be used for training\n",
        "train_pct = 0.9\n",
        "val_pct = 0.1\n",
        "\n",
        "# Calculate the index at which to split the subset of image paths into training and validation sets\n",
        "train_split = int(len(img_paths)*train_pct)\n",
        "val_split = int(len(img_paths)*(train_pct+val_pct))\n",
        "\n",
        "# Split the subset of image paths into training and validation sets\n",
        "train_paths = img_paths[:train_split]\n",
        "val_paths = img_paths[train_split:]\n",
        "\n",
        "# Print the number of images in the training and validation sets\n",
        "len(train_paths), len(val_paths)"
      ]
    },
    {
      "cell_type": "code",
      "execution_count": 16,
      "metadata": {
        "id": "-LL5kTrfJwJd"
      },
      "outputs": [],
      "source": [
        "class ResizePad(nn.Module):\n",
        "    def __init__(self, max_sz=256, padding_mode='edge'):\n",
        "        \"\"\"\n",
        "        A PyTorch module that resizes an image tensor and adds padding to make it a square tensor.\n",
        "\n",
        "        Args:\n",
        "        max_sz (int, optional): The size of the square tensor.\n",
        "        padding_mode (str, optional): The padding mode used when adding padding to the tensor.\n",
        "        \"\"\"\n",
        "        super().__init__()\n",
        "        self.max_sz = max_sz\n",
        "        self.padding_mode = padding_mode\n",
        "\n",
        "    def forward(self, x):\n",
        "        # Get the width and height of the image tensor\n",
        "        w, h = TF.get_image_size(x)\n",
        "\n",
        "        # Resize the image tensor so that its minimum dimension is equal to `max_sz`\n",
        "        size = int(min(w, h) / (max(w, h) / self.max_sz))\n",
        "        x = TF.resize(x, size=size)\n",
        "\n",
        "        # Add padding to make the image tensor a square\n",
        "        w, h = TF.get_image_size(x)\n",
        "        offset = (self.max_sz - min(w, h)) // 2\n",
        "        padding = [0, offset] if h < w else [offset, 0]\n",
        "        x = TF.pad(x, padding=padding, padding_mode=self.padding_mode)\n",
        "        x = TF.resize(x, size=[self.max_sz] * 2)\n",
        "\n",
        "        return x"
      ]
    },
    {
      "cell_type": "code",
      "execution_count": 17,
      "metadata": {
        "colab": {
          "base_uri": "https://localhost:8080/",
          "height": 429
        },
        "id": "Whp0MG74JxiB",
        "outputId": "588e44bf-8034-4eca-b518-5e6c78f20632"
      },
      "outputs": [
        {
          "output_type": "stream",
          "name": "stdout",
          "text": [
            "Source image: (512, 512)\n",
            "Cropped image: (512, 256)\n",
            "Cropped tensor: torch.Size([1, 3, 256, 512])\n",
            "Padded tensor: torch.Size([1, 3, 288, 288])\n"
          ]
        },
        {
          "output_type": "stream",
          "name": "stderr",
          "text": [
            "/usr/local/lib/python3.10/dist-packages/torchvision/transforms/functional.py:1603: UserWarning: The default value of the antialias parameter of all the resizing transforms (Resize(), RandomResizedCrop(), etc.) will change from None to True in v0.17, in order to be consistent across the PIL and Tensor backends. To suppress this warning, directly pass antialias=True (recommended, future default), antialias=None (current default, which means False for Tensors and True for PIL), or antialias=False (only works on Tensors - PIL will still use antialiasing). This also applies if you are using the inference transforms from the models weights: update the call to weights.transforms(antialias=True).\n",
            "  warnings.warn(\n"
          ]
        },
        {
          "output_type": "execute_result",
          "data": {
            "text/plain": [
              "<PIL.Image.Image image mode=RGB size=288x288>"
            ],
            "image/png": "[encoded data removed]"
          },
          "metadata": {},
          "execution_count": 17
        }
      ],
      "source": [
        "# sample image\n",
        "print(f\"Source image: {sample_img.size}\")\n",
        "\n",
        "# Crop the source image\n",
        "w, h = sample_img.size\n",
        "cropped_img = sample_img.crop([0, h//4, w, h-h//4])\n",
        "print(f\"Cropped image: {cropped_img.size}\")\n",
        "\n",
        "# Create a `ResizePad` object\n",
        "resize_pad = ResizePad(max_sz=max(train_sz))\n",
        "\n",
        "# Convert the cropped image to a tensor\n",
        "img_tensor = transforms.PILToTensor()(cropped_img)[None]\n",
        "print(f\"Cropped tensor: {img_tensor.shape}\")\n",
        "\n",
        "# Resize and pad the tensor\n",
        "resized_tensor = resize_pad(img_tensor)\n",
        "print(f\"Padded tensor: {resized_tensor.shape}\")\n",
        "\n",
        "# Apply random pixel copy to the resized and padded tensor\n",
        "tensor_to_pil(resized_tensor)"
      ]
    },
    {
      "cell_type": "code",
      "execution_count": 18,
      "metadata": {
        "id": "9yyUYIkbJ1Ev"
      },
      "outputs": [],
      "source": [
        "train_tfms = [\n",
        "    ResizePad(max_sz=max(train_sz)),\n",
        "#     transforms.TrivialAugmentWide(),\n",
        "    transforms.ToTensor(),\n",
        "    transforms.Normalize(*norm_stats),\n",
        "#     rand_square_copy_tf,\n",
        "#     rand_pixel_copy_tf,\n",
        "#     rand_square_pixel_copy_tf\n",
        "]\n",
        "valid_tfms = [\n",
        "    ResizePad(max_sz=max(train_sz)),\n",
        "    transforms.ToTensor(),\n",
        "    transforms.Normalize(*norm_stats),\n",
        "]"
      ]
    },
    {
      "cell_type": "code",
      "execution_count": 19,
      "metadata": {
        "id": "hs4ks-xLJ7lg"
      },
      "outputs": [],
      "source": [
        "class ImageDataset(Dataset):\n",
        "    def __init__(self, img_paths, classes, tfms):\n",
        "        # Store the arguments as instance variables\n",
        "        self.img_paths = img_paths\n",
        "        self.classes = classes\n",
        "        self.tfms = tfms\n",
        "\n",
        "        # Create a mapping from class names to class indices\n",
        "        self.class_to_idx = {c: i for i, c in enumerate(self.classes)}\n",
        "\n",
        "    def __len__(self):\n",
        "        # Return the number of images in the dataset\n",
        "        return len(self.img_paths)\n",
        "\n",
        "    def __getitem__(self, index):\n",
        "        # Get the path of the image at the given index\n",
        "        img_path = self.img_paths[index]\n",
        "\n",
        "        # Get the label of the image\n",
        "        label = self.class_to_idx[img_path.parent.name]\n",
        "\n",
        "        # Open the image\n",
        "        image = Image.open(img_path).convert('RGB')\n",
        "\n",
        "        return self.tfms(image), label"
      ]
    },
    {
      "cell_type": "code",
      "execution_count": 20,
      "metadata": {
        "colab": {
          "base_uri": "https://localhost:8080/"
        },
        "id": "jeHuTv-GK8p9",
        "outputId": "aa2d0d97-dc9f-4981-d959-df5f9ecf7cc1"
      },
      "outputs": [
        {
          "output_type": "execute_result",
          "data": {
            "text/plain": [
              "(138361, 15374)"
            ]
          },
          "metadata": {},
          "execution_count": 20
        }
      ],
      "source": [
        "# create the training dataset using the composed transformations\n",
        "train_dataset = ImageDataset(img_paths=train_paths,\n",
        "                             classes=class_names,\n",
        "                             tfms=transforms.Compose(train_tfms))\n",
        "\n",
        "# create the validation dataset\n",
        "valid_dataset = ImageDataset(img_paths=val_paths,\n",
        "                             classes=class_names,\n",
        "                             tfms=transforms.Compose(valid_tfms))\n",
        "\n",
        "# print the length of the training and validation datasets\n",
        "len(train_dataset), len(valid_dataset)"
      ]
    },
    {
      "cell_type": "code",
      "execution_count": 21,
      "metadata": {
        "colab": {
          "base_uri": "https://localhost:8080/"
        },
        "id": "QFIVg_hhK95D",
        "outputId": "92f071ef-6f4e-4dbb-e976-2b4398f945d9"
      },
      "outputs": [
        {
          "output_type": "execute_result",
          "data": {
            "text/plain": [
              "(138361, 15374)"
            ]
          },
          "metadata": {},
          "execution_count": 21
        }
      ],
      "source": [
        "# create the training dataset using the composed transformations\n",
        "train_dataset = ImageDataset(img_paths=train_paths,\n",
        "                             classes=class_names,\n",
        "                             tfms=transforms.Compose(train_tfms))\n",
        "\n",
        "# create the validation dataset\n",
        "valid_dataset = ImageDataset(img_paths=val_paths,\n",
        "                             classes=class_names,\n",
        "                             tfms=transforms.Compose(valid_tfms))\n",
        "\n",
        "# print the length of the training and validation datasets\n",
        "len(train_dataset), len(valid_dataset)"
      ]
    },
    {
      "cell_type": "code",
      "execution_count": 22,
      "metadata": {
        "id": "HN7iseOMHpif"
      },
      "outputs": [],
      "source": [
        "from torch.utils.data import Subset\n",
        "subset_indices = torch.randperm(len(train_dataset))[:30000]\n",
        "subset_train_dataset = Subset(train_dataset, subset_indices)\n",
        "\n",
        "subset_indices = torch.randperm(len(valid_dataset))[:5000]\n",
        "subset_valid_dataset = Subset(valid_dataset, subset_indices)"
      ]
    },
    {
      "cell_type": "code",
      "execution_count": 23,
      "metadata": {
        "colab": {
          "base_uri": "https://localhost:8080/"
        },
        "id": "l4yBvwJsgjhq",
        "outputId": "712373bf-fceb-40b1-d524-408b61730def"
      },
      "outputs": [
        {
          "output_type": "execute_result",
          "data": {
            "text/plain": [
              "(469, 79)"
            ]
          },
          "metadata": {},
          "execution_count": 23
        }
      ],
      "source": [
        "bs = 64 # batch size\n",
        "train_dataloader = DataLoader(subset_train_dataset,\n",
        "                              batch_size=bs,\n",
        "                              shuffle=True,\n",
        "                              num_workers=multiprocessing.cpu_count())\n",
        "\n",
        "valid_dataloader = DataLoader(subset_valid_dataset, batch_size=bs)\n",
        "\n",
        "\n",
        "# Print the number of batches in the training and validation dataloaders\n",
        "len(train_dataloader), len(valid_dataloader)"
      ]
    },
    {
      "cell_type": "markdown",
      "metadata": {
        "id": "tWb6Ps-QLANN"
      },
      "source": [
        "**Baseline Model - ResNext50**"
      ]
    },
    {
      "cell_type": "code",
      "execution_count": 24,
      "metadata": {
        "id": "-tsJSsmt_uSQ"
      },
      "outputs": [],
      "source": [
        "from ray import train"
      ]
    },
    {
      "cell_type": "code",
      "execution_count": 27,
      "metadata": {
        "id": "z81D4dGS7Dqb"
      },
      "outputs": [],
      "source": [
        "num_classes = 19\n",
        "use_cuda = torch.cuda.is_available()\n",
        "device = torch.device(\"cuda\" if use_cuda else \"cpu\")\n",
        "model=models.resnet50(num_classes=num_classes).to(device)"
      ]
    },
    {
      "cell_type": "code",
      "execution_count": 28,
      "metadata": {
        "id": "zE0ZaZDIKUFC"
      },
      "outputs": [],
      "source": [
        "def train1(model, optimizer, train_loader, device=None):\n",
        "  criterion = nn.CrossEntropyLoss()\n",
        "  device = device or torch.device(\"cpu\")\n",
        "  model.train()\n",
        "  for images, labels in train_dataloader:\n",
        "    images, labels = images.to(device), labels.to(device)\n",
        "    optimizer.zero_grad()\n",
        "    outputs = model(images)\n",
        "    loss = criterion(outputs, labels)\n",
        "    loss.backward()\n",
        "    optimizer.step()\n"
      ]
    },
    {
      "cell_type": "code",
      "execution_count": 29,
      "metadata": {
        "id": "1_lSDIGTLJ1s"
      },
      "outputs": [],
      "source": [
        "def test(model, data_loader, device=None):\n",
        "    all_predictions = []\n",
        "    all_labels = []\n",
        "    device = device or torch.device(\"cpu\")\n",
        "    model.eval()\n",
        "    with torch.no_grad():\n",
        "      for inputs, labels in valid_dataloader:\n",
        "        # Move data to device if using GPU\n",
        "        inputs = inputs.to(device)\n",
        "        labels = labels.to(device)\n",
        "\n",
        "        # Forward pass\n",
        "        outputs = model(inputs)\n",
        "\n",
        "        # Append predictions and labels to the lists\n",
        "        all_predictions.extend(torch.argmax(outputs, dim=1).cpu().numpy())\n",
        "        all_labels.extend(labels.cpu().numpy())\n",
        "\n",
        "# Calculate accuracy, precision, recall, or any other metric as needed\n",
        "    accuracy = (torch.tensor(all_predictions) == torch.tensor(all_labels)).float().mean().item()\n",
        "    return accuracy"
      ]
    },
    {
      "cell_type": "code",
      "execution_count": 30,
      "metadata": {
        "id": "5kFFG2vfV6r6"
      },
      "outputs": [],
      "source": [
        "torch.cuda.empty_cache()"
      ]
    },
    {
      "cell_type": "markdown",
      "metadata": {
        "id": "hp_s4wDDPbCG"
      },
      "source": [
        "**Saving Model**"
      ]
    },
    {
      "cell_type": "code",
      "source": [
        "import torch\n",
        "import torch.nn as nn\n",
        "from torch.optim import SGD\n",
        "from torch.optim.lr_scheduler import StepLR\n",
        "from torchvision import models\n",
        "import torchvision.transforms as transforms\n",
        "from torch.utils.tensorboard import SummaryWriter\n",
        "from torch.utils.data import DataLoader\n",
        "\n",
        "# Assuming `train_dataset` is your training dataset\n",
        "train_dataloader = DataLoader(train_dataset, batch_size=32, shuffle=True)\n",
        "\n",
        "num_classes = 19\n",
        "use_cuda = torch.cuda.is_available()\n",
        "device = torch.device(\"cuda\" if use_cuda else \"cpu\")\n",
        "model = models.resnet50(num_classes=num_classes).to(device)\n",
        "\n",
        "criterion = nn.CrossEntropyLoss()\n",
        "optimizer = SGD(model.parameters(), lr=0.01, momentum=0.9)\n",
        "scheduler = StepLR(optimizer, step_size=3, gamma=0.1)\n",
        "tb_writer = SummaryWriter()\n",
        "\n",
        "# def train_one_epoch(epoch_index, tb_writer):\n",
        "#     running_loss = 0.0\n",
        "#     last_loss = 0.0\n",
        "\n",
        "#     model.train()\n",
        "#     for i, data in enumerate(train_dataloader):\n",
        "#         images, labels = data\n",
        "#         images, labels = images.to(device), labels.to(device)\n",
        "#         optimizer.zero_grad()\n",
        "#         outputs = model(images)\n",
        "#         loss = criterion(outputs, labels)\n",
        "#         loss.backward()\n",
        "#         optimizer.step()\n",
        "\n",
        "#         running_loss += loss.item()\n",
        "#         if i % 100 == 99:  # Log every 100 batches\n",
        "#             last_loss = running_loss / 100  # Average loss per batch\n",
        "#             print('  batch {} loss: {:.4f}'.format(i + 1, last_loss))\n",
        "#             tb_x = epoch_index * len(train_dataloader) + i + 1\n",
        "#             tb_writer.add_scalar('Loss/train', last_loss, tb_x)\n",
        "#             running_loss = 0.0\n",
        "\n",
        "#     # Step the scheduler\n",
        "#     scheduler.step()\n",
        "\n",
        "#     return last_loss\n",
        "\n",
        "# # Example usage\n",
        "# for epoch in range(10):  # Number of epochs\n",
        "#     loss = train_one_epoch(epoch, tb_writer)\n",
        "#     print(f\"Epoch {epoch+1}, Loss: {loss:.4f}\")\n",
        "def train_one_epoch(epoch_index, tb_writer):\n",
        "  #device = device or torch.device(\"cpu\")\n",
        "  running_loss = 0.\n",
        "  last_loss = 0.\n",
        "  i=0\n",
        "\n",
        "    # Here, we use enumerate(training_loader) instead of\n",
        "    # iter(training_loader) so that we can track the batch\n",
        "    # index and do some intra-epoch reporting\n",
        "\n",
        "\n",
        "  model.train()\n",
        "  for i, data in enumerate(train_dataloader):\n",
        "  #for images, labels in train_dataloader:\n",
        "    images, labels = data\n",
        "    images, labels = images.to(device), labels.to(device)\n",
        "    optimizer.zero_grad()\n",
        "    outputs = model(images)\n",
        "    loss = criterion(outputs, labels)\n",
        "    loss.backward()\n",
        "    optimizer.step()\n",
        "\n",
        "        # Gather data and report\n",
        "    running_loss += loss.item()\n",
        "    if i % 100 == 99:\n",
        "            last_loss = running_loss / 1000 # loss per batch\n",
        "            print('  batch {} loss: {}'.format(i + 1, last_loss))\n",
        "            tb_x = epoch_index * len(train_dataloader) + i + 1\n",
        "            tb_writer.add_scalar('Loss/train', last_loss, tb_x)\n",
        "            running_loss = 0.\n",
        "  scheduler.step()\n",
        "  return last_loss"
      ],
      "metadata": {
        "id": "vp86QgWcZPvL"
      },
      "execution_count": 31,
      "outputs": []
    },
    {
      "cell_type": "code",
      "source": [
        "from torch.utils.tensorboard import SummaryWriter\n",
        "from datetime import datetime\n",
        "# Initializing in a separate cell so we can easily add more epochs to the same run\n",
        "timestamp = datetime.now().strftime('%Y%m%d_%H%M%S')\n",
        "writer = SummaryWriter('runs/fashion_trainer_{}'.format(timestamp))\n",
        "epoch_number = 0\n",
        "\n",
        "EPOCHS = 5\n",
        "\n",
        "best_vloss = 1_000_000.\n",
        "# train_loss_history\n",
        "train_loss_hist = []\n",
        "# validation_loss_history\n",
        "val_loss_hist = []\n",
        "\n",
        "for epoch in range(EPOCHS):\n",
        "    all_predictions = []\n",
        "    all_labels = []\n",
        "    loss_history_epoch = []\n",
        "    print('EPOCH {}:'.format(epoch_number + 1))\n",
        "\n",
        "    # Make sure gradient tracking is on, and do a pass over the data\n",
        "    model.train(True)\n",
        "    avg_loss = train_one_epoch(epoch_number, writer)\n",
        "\n",
        "\n",
        "    running_vloss = 0.0\n",
        "    # Set the model to evaluation mode, disabling dropout and using population\n",
        "    # statistics for batch normalization.\n",
        "    model.eval()\n",
        "\n",
        "    # Disable gradient computation and reduce memory consumption.\n",
        "    with torch.no_grad():\n",
        "        for i, vdata in enumerate(valid_dataloader):\n",
        "            vinputs, vlabels = vdata\n",
        "            vinputs = vinputs.to(device)\n",
        "            vlabels = vlabels.to(device)\n",
        "            voutputs = model(vinputs)\n",
        "            vloss = criterion(voutputs, vlabels)\n",
        "            running_vloss += vloss\n",
        "            all_predictions.extend(torch.argmax(voutputs, dim=1).cpu().numpy())\n",
        "            all_labels.extend(vlabels.cpu().numpy())\n",
        "\n",
        "\n",
        "    avg_vloss = running_vloss / (i + 1)\n",
        "    print('LOSS train {} valid {}'.format(avg_loss, avg_vloss))\n",
        "    accuracy = (torch.tensor(all_predictions) == torch.tensor(all_labels)).float().mean().item()\n",
        "    print('test accuracy: ',accuracy)\n",
        "\n",
        "    # Log the running loss averaged per batch\n",
        "    # for both training and validation\n",
        "    writer.add_scalars('Training vs. Validation Loss',\n",
        "                    { 'Training' : avg_loss, 'Validation' : avg_vloss },\n",
        "                    epoch_number + 1)\n",
        "    train_loss_hist.append(avg_loss)\n",
        "    val_loss_hist.append(avg_vloss)\n",
        "    writer.flush()\n",
        "\n",
        "    # Track best performance, and save the model's state\n",
        "    if avg_vloss < best_vloss:\n",
        "        best_vloss = avg_vloss\n",
        "        model_path = 'model_{}_{}'.format(timestamp, epoch_number)\n",
        "        torch.save(model.state_dict(), model_path)\n",
        "\n",
        "    epoch_number += 1"
      ],
      "metadata": {
        "colab": {
          "base_uri": "https://localhost:8080/"
        },
        "id": "aCKRZdLSmTFI",
        "outputId": "d7a4f72d-2162-4b8e-bea2-177e9be20323"
      },
      "execution_count": 32,
      "outputs": [
        {
          "output_type": "stream",
          "name": "stdout",
          "text": [
            "EPOCH 1:\n",
            "  batch 100 loss: 0.36398892855644227\n",
            "  batch 200 loss: 0.2961113839149475\n",
            "  batch 300 loss: 0.2795454432964325\n",
            "  batch 400 loss: 0.2767498607635498\n",
            "  batch 500 loss: 0.27612963104248045\n",
            "  batch 600 loss: 0.2740816717147827\n",
            "  batch 700 loss: 0.27197014808654785\n",
            "  batch 800 loss: 0.27073805952072144\n",
            "  batch 900 loss: 0.27083135867118835\n",
            "  batch 1000 loss: 0.2697681500911713\n",
            "  batch 1100 loss: 0.2670258219242096\n",
            "  batch 1200 loss: 0.260121440410614\n",
            "  batch 1300 loss: 0.2596151511669159\n",
            "  batch 1400 loss: 0.25795677518844606\n",
            "  batch 1500 loss: 0.2561220848560333\n",
            "  batch 1600 loss: 0.25413358545303344\n",
            "  batch 1700 loss: 0.24648110222816466\n",
            "  batch 1800 loss: 0.24464143466949462\n",
            "  batch 1900 loss: 0.23467382514476776\n",
            "  batch 2000 loss: 0.2318133953809738\n",
            "  batch 2100 loss: 0.22480240058898926\n",
            "  batch 2200 loss: 0.2229905858039856\n",
            "  batch 2300 loss: 0.21334845542907716\n",
            "  batch 2400 loss: 0.20181460738182067\n",
            "  batch 2500 loss: 0.19452921843528748\n",
            "  batch 2600 loss: 0.18042762506008148\n",
            "  batch 2700 loss: 0.17642844843864441\n",
            "  batch 2800 loss: 0.15791726422309876\n",
            "  batch 2900 loss: 0.15603902596235275\n",
            "  batch 3000 loss: 0.13921856546401978\n",
            "  batch 3100 loss: 0.12474496549367904\n",
            "  batch 3200 loss: 0.1190245377421379\n",
            "  batch 3300 loss: 0.10699363243579864\n",
            "  batch 3400 loss: 0.10371112582087517\n",
            "  batch 3500 loss: 0.10077423140406609\n",
            "  batch 3600 loss: 0.09186773538589478\n",
            "  batch 3700 loss: 0.09261438003182411\n",
            "  batch 3800 loss: 0.08743663817644119\n",
            "  batch 3900 loss: 0.0776860765516758\n",
            "  batch 4000 loss: 0.07875074994564056\n",
            "  batch 4100 loss: 0.06847130316495896\n",
            "  batch 4200 loss: 0.06785661572217941\n",
            "  batch 4300 loss: 0.06427743850648403\n",
            "LOSS train 0.06427743850648403 valid 0.8742511868476868\n",
            "test accuracy:  0.7964000105857849\n",
            "EPOCH 2:\n",
            "  batch 100 loss: 0.06085545688867569\n",
            "  batch 200 loss: 0.0599715718626976\n",
            "  batch 300 loss: 0.059868795484304425\n",
            "  batch 400 loss: 0.059666712045669555\n",
            "  batch 500 loss: 0.04878489035367966\n",
            "  batch 600 loss: 0.05123687098175287\n",
            "  batch 700 loss: 0.04948779180645943\n",
            "  batch 800 loss: 0.04656283763051033\n",
            "  batch 900 loss: 0.04534703485667706\n",
            "  batch 1000 loss: 0.04671781766414642\n",
            "  batch 1100 loss: 0.04536730855703354\n",
            "  batch 1200 loss: 0.04445413509011269\n",
            "  batch 1300 loss: 0.04251981136202812\n",
            "  batch 1400 loss: 0.038514061391353605\n",
            "  batch 1500 loss: 0.03737720130383968\n",
            "  batch 1600 loss: 0.03816321782022715\n",
            "  batch 1700 loss: 0.03809602529555559\n",
            "  batch 1800 loss: 0.03630382512509823\n",
            "  batch 1900 loss: 0.03802619710750878\n",
            "  batch 2000 loss: 0.0349593955129385\n",
            "  batch 2100 loss: 0.03461934886313975\n",
            "  batch 2200 loss: 0.032386536478996274\n",
            "  batch 2300 loss: 0.0328441594466567\n",
            "  batch 2400 loss: 0.031200200669467448\n",
            "  batch 2500 loss: 0.03224883467331529\n",
            "  batch 2600 loss: 0.028741442281752825\n",
            "  batch 2700 loss: 0.032801343854516746\n",
            "  batch 2800 loss: 0.030307499960064887\n",
            "  batch 2900 loss: 0.034247140243649485\n",
            "  batch 3000 loss: 0.029216668052598833\n",
            "  batch 3100 loss: 0.02998943319544196\n",
            "  batch 3200 loss: 0.02503397398069501\n",
            "  batch 3300 loss: 0.02767641414515674\n",
            "  batch 3400 loss: 0.03214003908261657\n",
            "  batch 3500 loss: 0.028161433435976505\n",
            "  batch 3600 loss: 0.030899440109729767\n",
            "  batch 3700 loss: 0.0281650380268693\n",
            "  batch 3800 loss: 0.0298221448995173\n",
            "  batch 3900 loss: 0.030573211345821617\n",
            "  batch 4000 loss: 0.02764173612371087\n",
            "  batch 4100 loss: 0.024275544667616486\n",
            "  batch 4200 loss: 0.02237495885975659\n",
            "  batch 4300 loss: 0.02437965928763151\n",
            "LOSS train 0.02437965928763151 valid 0.3933461904525757\n",
            "test accuracy:  0.9247999787330627\n",
            "EPOCH 3:\n",
            "  batch 100 loss: 0.01986647289991379\n",
            "  batch 200 loss: 0.023007319594733417\n",
            "  batch 300 loss: 0.017455752892419695\n",
            "  batch 400 loss: 0.02054702691314742\n",
            "  batch 500 loss: 0.020798971312120558\n",
            "  batch 600 loss: 0.018082666387781502\n",
            "  batch 700 loss: 0.019701706057414413\n",
            "  batch 800 loss: 0.019375119718722997\n",
            "  batch 900 loss: 0.021385095544159412\n",
            "  batch 1000 loss: 0.017192293087020517\n",
            "  batch 1100 loss: 0.01845108469761908\n",
            "  batch 1200 loss: 0.018722645314410327\n",
            "  batch 1300 loss: 0.01813961786776781\n",
            "  batch 1400 loss: 0.018037415705621243\n",
            "  batch 1500 loss: 0.021058701902627944\n",
            "  batch 1600 loss: 0.020661033339798452\n",
            "  batch 1700 loss: 0.017340217574499547\n",
            "  batch 1800 loss: 0.01759648568369448\n",
            "  batch 1900 loss: 0.01783389769680798\n",
            "  batch 2000 loss: 0.017467373273335397\n",
            "  batch 2100 loss: 0.01779998957272619\n",
            "  batch 2200 loss: 0.017420771663077175\n",
            "  batch 2300 loss: 0.018163029307499527\n",
            "  batch 2400 loss: 0.01747000026050955\n",
            "  batch 2500 loss: 0.013729799767956137\n",
            "  batch 2600 loss: 0.01723261684551835\n",
            "  batch 2700 loss: 0.017361388796940446\n",
            "  batch 2800 loss: 0.01822698149411008\n",
            "  batch 2900 loss: 0.016580831069499254\n",
            "  batch 3000 loss: 0.01831485327752307\n",
            "  batch 3100 loss: 0.018199184507131577\n",
            "  batch 3200 loss: 0.015058677193708719\n",
            "  batch 3300 loss: 0.014155080371536314\n",
            "  batch 3400 loss: 0.018942965210415424\n",
            "  batch 3500 loss: 0.018925750168040396\n",
            "  batch 3600 loss: 0.014345020221546292\n",
            "  batch 3700 loss: 0.014055031131953001\n",
            "  batch 3800 loss: 0.01761250343173742\n",
            "  batch 3900 loss: 0.015222205556929111\n",
            "  batch 4000 loss: 0.015017862062901259\n",
            "  batch 4100 loss: 0.015852884524967522\n",
            "  batch 4200 loss: 0.016495054579339922\n",
            "  batch 4300 loss: 0.0144283007546328\n",
            "LOSS train 0.0144283007546328 valid 0.3200226128101349\n",
            "test accuracy:  0.9453999996185303\n",
            "EPOCH 4:\n",
            "  batch 100 loss: 0.00967415264248848\n",
            "  batch 200 loss: 0.010115307186963036\n",
            "  batch 300 loss: 0.006828522781841457\n",
            "  batch 400 loss: 0.007329608666477725\n",
            "  batch 500 loss: 0.007273303063353524\n",
            "  batch 600 loss: 0.0076211930755525825\n",
            "  batch 700 loss: 0.005899093164829537\n",
            "  batch 800 loss: 0.006193692686618305\n",
            "  batch 900 loss: 0.006039560211123899\n",
            "  batch 1000 loss: 0.004546731589827687\n",
            "  batch 1100 loss: 0.006126478454098106\n",
            "  batch 1200 loss: 0.006178415233269334\n",
            "  batch 1300 loss: 0.007171977134421467\n",
            "  batch 1400 loss: 0.004571042564115487\n",
            "  batch 1500 loss: 0.005318360757082701\n",
            "  batch 1600 loss: 0.005460039774654433\n",
            "  batch 1700 loss: 0.005747148886555806\n",
            "  batch 1800 loss: 0.005949842702480964\n",
            "  batch 1900 loss: 0.004779686038498767\n",
            "  batch 2000 loss: 0.005062665393925272\n",
            "  batch 2100 loss: 0.006279038643930107\n",
            "  batch 2200 loss: 0.004779439006233588\n",
            "  batch 2300 loss: 0.006463083084789105\n",
            "  batch 2400 loss: 0.004662299688265193\n",
            "  batch 2500 loss: 0.00518374291434884\n",
            "  batch 2600 loss: 0.005070422906195745\n",
            "  batch 2700 loss: 0.004386701107723639\n",
            "  batch 2800 loss: 0.005930227265460416\n",
            "  batch 2900 loss: 0.004817466728389263\n",
            "  batch 3000 loss: 0.004909325635060668\n",
            "  batch 3100 loss: 0.0049699560285080225\n",
            "  batch 3200 loss: 0.005975930856831837\n",
            "  batch 3300 loss: 0.005806990002398379\n",
            "  batch 3400 loss: 0.006701851395540871\n",
            "  batch 3500 loss: 0.004296888469252735\n",
            "  batch 3600 loss: 0.005204841138562188\n",
            "  batch 3700 loss: 0.004387380236643366\n",
            "  batch 3800 loss: 0.005149614462279715\n",
            "  batch 3900 loss: 0.004592192868702114\n",
            "  batch 4000 loss: 0.004524445752613246\n",
            "  batch 4100 loss: 0.004671305443858728\n",
            "  batch 4200 loss: 0.004641262793331407\n",
            "  batch 4300 loss: 0.003717403319926234\n",
            "LOSS train 0.003717403319926234 valid 0.20866833627223969\n",
            "test accuracy:  0.9739999771118164\n",
            "EPOCH 5:\n",
            "  batch 100 loss: 0.004691946737060789\n",
            "  batch 200 loss: 0.0037175739953527226\n",
            "  batch 300 loss: 0.004241872171754949\n",
            "  batch 400 loss: 0.003051721279596677\n",
            "  batch 500 loss: 0.003589887560461648\n",
            "  batch 600 loss: 0.003388227382907644\n",
            "  batch 700 loss: 0.004044830055441708\n",
            "  batch 800 loss: 0.0038702718135900796\n",
            "  batch 900 loss: 0.003920052136250888\n",
            "  batch 1000 loss: 0.003038662082108203\n",
            "  batch 1100 loss: 0.003711732455471065\n",
            "  batch 1200 loss: 0.003956904072780162\n",
            "  batch 1300 loss: 0.003951175085501745\n",
            "  batch 1400 loss: 0.002987044236739166\n",
            "  batch 1500 loss: 0.0036164595956215636\n",
            "  batch 1600 loss: 0.00400644924500375\n",
            "  batch 1700 loss: 0.0038067042984912406\n",
            "  batch 1800 loss: 0.003041744158719666\n",
            "  batch 1900 loss: 0.003736819228506647\n",
            "  batch 2000 loss: 0.003608586630609352\n",
            "  batch 2100 loss: 0.004345219459210057\n",
            "  batch 2200 loss: 0.0038180700789089313\n",
            "  batch 2300 loss: 0.0038761465195566417\n",
            "  batch 2400 loss: 0.00385953874050756\n",
            "  batch 2500 loss: 0.004082333594444208\n",
            "  batch 2600 loss: 0.004029387696587946\n",
            "  batch 2700 loss: 0.0029815017551009077\n",
            "  batch 2800 loss: 0.00333690549939638\n",
            "  batch 2900 loss: 0.0038573951300641058\n",
            "  batch 3000 loss: 0.0041262296595668884\n",
            "  batch 3100 loss: 0.0037412271942012013\n",
            "  batch 3200 loss: 0.00391557120915968\n",
            "  batch 3300 loss: 0.0035208390856860203\n",
            "  batch 3400 loss: 0.0036264521749690176\n",
            "  batch 3500 loss: 0.003801118506467901\n",
            "  batch 3600 loss: 0.0038643166256370023\n",
            "  batch 3700 loss: 0.004497119573556119\n",
            "  batch 3800 loss: 0.0036672717785695566\n",
            "  batch 3900 loss: 0.0027983564119203946\n",
            "  batch 4000 loss: 0.0038393255315022543\n",
            "  batch 4100 loss: 0.002516203945269808\n",
            "  batch 4200 loss: 0.002894059280923102\n",
            "  batch 4300 loss: 0.003299159381305799\n",
            "LOSS train 0.003299159381305799 valid 0.24375304579734802\n",
            "test accuracy:  0.975600004196167\n"
          ]
        }
      ]
    },
    {
      "cell_type": "code",
      "source": [
        "val_loss_hist_cpu = [tensor.cpu() for tensor in val_loss_hist]"
      ],
      "metadata": {
        "id": "MxWN3hYnmXYs"
      },
      "execution_count": 33,
      "outputs": []
    },
    {
      "cell_type": "code",
      "source": [
        "import matplotlib.pyplot as plt\n",
        "plt.title('Original trained model: ResNet18')\n",
        "plt.plot(train_loss_hist, 'r', label = 'Training Loss')\n",
        "plt.plot(val_loss_hist_cpu, 'b', label = 'Validation Loss')\n",
        "plt.legend()"
      ],
      "metadata": {
        "colab": {
          "base_uri": "https://localhost:8080/",
          "height": 469
        },
        "id": "F_BOsPIEmbfZ",
        "outputId": "9d1bc445-44f2-43c8-9fbd-95f3afb6b16d"
      },
      "execution_count": 34,
      "outputs": [
        {
          "output_type": "execute_result",
          "data": {
            "text/plain": [
              "<matplotlib.legend.Legend at 0x78c5ede4c4f0>"
            ]
          },
          "metadata": {},
          "execution_count": 34
        },
        {
          "output_type": "display_data",
          "data": {
            "text/plain": [
              "<Figure size 640x480 with 1 Axes>"
            ],
            "image/png": "[encoded data removed]"
          },
          "metadata": {}
        }
      ]
    },
    {
      "cell_type": "code",
      "execution_count": 35,
      "metadata": {
        "id": "gkWvfXtbHOw_"
      },
      "outputs": [],
      "source": [
        "torch.save(model.state_dict(), '/content/ResNet50.pth')"
      ]
    },
    {
      "cell_type": "markdown",
      "metadata": {
        "id": "jZxxCLcsJvWI"
      },
      "source": [
        "**Validating Model**"
      ]
    },
    {
      "cell_type": "code",
      "execution_count": 36,
      "metadata": {
        "id": "htpTfa4gJ8Oh",
        "colab": {
          "base_uri": "https://localhost:8080/"
        },
        "outputId": "52830167-0756-4d38-c50c-1f308055f627"
      },
      "outputs": [
        {
          "output_type": "execute_result",
          "data": {
            "text/plain": [
              "ResNet(\n",
              "  (conv1): Conv2d(3, 64, kernel_size=(7, 7), stride=(2, 2), padding=(3, 3), bias=False)\n",
              "  (bn1): BatchNorm2d(64, eps=1e-05, momentum=0.1, affine=True, track_running_stats=True)\n",
              "  (relu): ReLU(inplace=True)\n",
              "  (maxpool): MaxPool2d(kernel_size=3, stride=2, padding=1, dilation=1, ceil_mode=False)\n",
              "  (layer1): Sequential(\n",
              "    (0): Bottleneck(\n",
              "      (conv1): Conv2d(64, 64, kernel_size=(1, 1), stride=(1, 1), bias=False)\n",
              "      (bn1): BatchNorm2d(64, eps=1e-05, momentum=0.1, affine=True, track_running_stats=True)\n",
              "      (conv2): Conv2d(64, 64, kernel_size=(3, 3), stride=(1, 1), padding=(1, 1), bias=False)\n",
              "      (bn2): BatchNorm2d(64, eps=1e-05, momentum=0.1, affine=True, track_running_stats=True)\n",
              "      (conv3): Conv2d(64, 256, kernel_size=(1, 1), stride=(1, 1), bias=False)\n",
              "      (bn3): BatchNorm2d(256, eps=1e-05, momentum=0.1, affine=True, track_running_stats=True)\n",
              "      (relu): ReLU(inplace=True)\n",
              "      (downsample): Sequential(\n",
              "        (0): Conv2d(64, 256, kernel_size=(1, 1), stride=(1, 1), bias=False)\n",
              "        (1): BatchNorm2d(256, eps=1e-05, momentum=0.1, affine=True, track_running_stats=True)\n",
              "      )\n",
              "    )\n",
              "    (1): Bottleneck(\n",
              "      (conv1): Conv2d(256, 64, kernel_size=(1, 1), stride=(1, 1), bias=False)\n",
              "      (bn1): BatchNorm2d(64, eps=1e-05, momentum=0.1, affine=True, track_running_stats=True)\n",
              "      (conv2): Conv2d(64, 64, kernel_size=(3, 3), stride=(1, 1), padding=(1, 1), bias=False)\n",
              "      (bn2): BatchNorm2d(64, eps=1e-05, momentum=0.1, affine=True, track_running_stats=True)\n",
              "      (conv3): Conv2d(64, 256, kernel_size=(1, 1), stride=(1, 1), bias=False)\n",
              "      (bn3): BatchNorm2d(256, eps=1e-05, momentum=0.1, affine=True, track_running_stats=True)\n",
              "      (relu): ReLU(inplace=True)\n",
              "    )\n",
              "    (2): Bottleneck(\n",
              "      (conv1): Conv2d(256, 64, kernel_size=(1, 1), stride=(1, 1), bias=False)\n",
              "      (bn1): BatchNorm2d(64, eps=1e-05, momentum=0.1, affine=True, track_running_stats=True)\n",
              "      (conv2): Conv2d(64, 64, kernel_size=(3, 3), stride=(1, 1), padding=(1, 1), bias=False)\n",
              "      (bn2): BatchNorm2d(64, eps=1e-05, momentum=0.1, affine=True, track_running_stats=True)\n",
              "      (conv3): Conv2d(64, 256, kernel_size=(1, 1), stride=(1, 1), bias=False)\n",
              "      (bn3): BatchNorm2d(256, eps=1e-05, momentum=0.1, affine=True, track_running_stats=True)\n",
              "      (relu): ReLU(inplace=True)\n",
              "    )\n",
              "  )\n",
              "  (layer2): Sequential(\n",
              "    (0): Bottleneck(\n",
              "      (conv1): Conv2d(256, 128, kernel_size=(1, 1), stride=(1, 1), bias=False)\n",
              "      (bn1): BatchNorm2d(128, eps=1e-05, momentum=0.1, affine=True, track_running_stats=True)\n",
              "      (conv2): Conv2d(128, 128, kernel_size=(3, 3), stride=(2, 2), padding=(1, 1), bias=False)\n",
              "      (bn2): BatchNorm2d(128, eps=1e-05, momentum=0.1, affine=True, track_running_stats=True)\n",
              "      (conv3): Conv2d(128, 512, kernel_size=(1, 1), stride=(1, 1), bias=False)\n",
              "      (bn3): BatchNorm2d(512, eps=1e-05, momentum=0.1, affine=True, track_running_stats=True)\n",
              "      (relu): ReLU(inplace=True)\n",
              "      (downsample): Sequential(\n",
              "        (0): Conv2d(256, 512, kernel_size=(1, 1), stride=(2, 2), bias=False)\n",
              "        (1): BatchNorm2d(512, eps=1e-05, momentum=0.1, affine=True, track_running_stats=True)\n",
              "      )\n",
              "    )\n",
              "    (1): Bottleneck(\n",
              "      (conv1): Conv2d(512, 128, kernel_size=(1, 1), stride=(1, 1), bias=False)\n",
              "      (bn1): BatchNorm2d(128, eps=1e-05, momentum=0.1, affine=True, track_running_stats=True)\n",
              "      (conv2): Conv2d(128, 128, kernel_size=(3, 3), stride=(1, 1), padding=(1, 1), bias=False)\n",
              "      (bn2): BatchNorm2d(128, eps=1e-05, momentum=0.1, affine=True, track_running_stats=True)\n",
              "      (conv3): Conv2d(128, 512, kernel_size=(1, 1), stride=(1, 1), bias=False)\n",
              "      (bn3): BatchNorm2d(512, eps=1e-05, momentum=0.1, affine=True, track_running_stats=True)\n",
              "      (relu): ReLU(inplace=True)\n",
              "    )\n",
              "    (2): Bottleneck(\n",
              "      (conv1): Conv2d(512, 128, kernel_size=(1, 1), stride=(1, 1), bias=False)\n",
              "      (bn1): BatchNorm2d(128, eps=1e-05, momentum=0.1, affine=True, track_running_stats=True)\n",
              "      (conv2): Conv2d(128, 128, kernel_size=(3, 3), stride=(1, 1), padding=(1, 1), bias=False)\n",
              "      (bn2): BatchNorm2d(128, eps=1e-05, momentum=0.1, affine=True, track_running_stats=True)\n",
              "      (conv3): Conv2d(128, 512, kernel_size=(1, 1), stride=(1, 1), bias=False)\n",
              "      (bn3): BatchNorm2d(512, eps=1e-05, momentum=0.1, affine=True, track_running_stats=True)\n",
              "      (relu): ReLU(inplace=True)\n",
              "    )\n",
              "    (3): Bottleneck(\n",
              "      (conv1): Conv2d(512, 128, kernel_size=(1, 1), stride=(1, 1), bias=False)\n",
              "      (bn1): BatchNorm2d(128, eps=1e-05, momentum=0.1, affine=True, track_running_stats=True)\n",
              "      (conv2): Conv2d(128, 128, kernel_size=(3, 3), stride=(1, 1), padding=(1, 1), bias=False)\n",
              "      (bn2): BatchNorm2d(128, eps=1e-05, momentum=0.1, affine=True, track_running_stats=True)\n",
              "      (conv3): Conv2d(128, 512, kernel_size=(1, 1), stride=(1, 1), bias=False)\n",
              "      (bn3): BatchNorm2d(512, eps=1e-05, momentum=0.1, affine=True, track_running_stats=True)\n",
              "      (relu): ReLU(inplace=True)\n",
              "    )\n",
              "  )\n",
              "  (layer3): Sequential(\n",
              "    (0): Bottleneck(\n",
              "      (conv1): Conv2d(512, 256, kernel_size=(1, 1), stride=(1, 1), bias=False)\n",
              "      (bn1): BatchNorm2d(256, eps=1e-05, momentum=0.1, affine=True, track_running_stats=True)\n",
              "      (conv2): Conv2d(256, 256, kernel_size=(3, 3), stride=(2, 2), padding=(1, 1), bias=False)\n",
              "      (bn2): BatchNorm2d(256, eps=1e-05, momentum=0.1, affine=True, track_running_stats=True)\n",
              "      (conv3): Conv2d(256, 1024, kernel_size=(1, 1), stride=(1, 1), bias=False)\n",
              "      (bn3): BatchNorm2d(1024, eps=1e-05, momentum=0.1, affine=True, track_running_stats=True)\n",
              "      (relu): ReLU(inplace=True)\n",
              "      (downsample): Sequential(\n",
              "        (0): Conv2d(512, 1024, kernel_size=(1, 1), stride=(2, 2), bias=False)\n",
              "        (1): BatchNorm2d(1024, eps=1e-05, momentum=0.1, affine=True, track_running_stats=True)\n",
              "      )\n",
              "    )\n",
              "    (1): Bottleneck(\n",
              "      (conv1): Conv2d(1024, 256, kernel_size=(1, 1), stride=(1, 1), bias=False)\n",
              "      (bn1): BatchNorm2d(256, eps=1e-05, momentum=0.1, affine=True, track_running_stats=True)\n",
              "      (conv2): Conv2d(256, 256, kernel_size=(3, 3), stride=(1, 1), padding=(1, 1), bias=False)\n",
              "      (bn2): BatchNorm2d(256, eps=1e-05, momentum=0.1, affine=True, track_running_stats=True)\n",
              "      (conv3): Conv2d(256, 1024, kernel_size=(1, 1), stride=(1, 1), bias=False)\n",
              "      (bn3): BatchNorm2d(1024, eps=1e-05, momentum=0.1, affine=True, track_running_stats=True)\n",
              "      (relu): ReLU(inplace=True)\n",
              "    )\n",
              "    (2): Bottleneck(\n",
              "      (conv1): Conv2d(1024, 256, kernel_size=(1, 1), stride=(1, 1), bias=False)\n",
              "      (bn1): BatchNorm2d(256, eps=1e-05, momentum=0.1, affine=True, track_running_stats=True)\n",
              "      (conv2): Conv2d(256, 256, kernel_size=(3, 3), stride=(1, 1), padding=(1, 1), bias=False)\n",
              "      (bn2): BatchNorm2d(256, eps=1e-05, momentum=0.1, affine=True, track_running_stats=True)\n",
              "      (conv3): Conv2d(256, 1024, kernel_size=(1, 1), stride=(1, 1), bias=False)\n",
              "      (bn3): BatchNorm2d(1024, eps=1e-05, momentum=0.1, affine=True, track_running_stats=True)\n",
              "      (relu): ReLU(inplace=True)\n",
              "    )\n",
              "    (3): Bottleneck(\n",
              "      (conv1): Conv2d(1024, 256, kernel_size=(1, 1), stride=(1, 1), bias=False)\n",
              "      (bn1): BatchNorm2d(256, eps=1e-05, momentum=0.1, affine=True, track_running_stats=True)\n",
              "      (conv2): Conv2d(256, 256, kernel_size=(3, 3), stride=(1, 1), padding=(1, 1), bias=False)\n",
              "      (bn2): BatchNorm2d(256, eps=1e-05, momentum=0.1, affine=True, track_running_stats=True)\n",
              "      (conv3): Conv2d(256, 1024, kernel_size=(1, 1), stride=(1, 1), bias=False)\n",
              "      (bn3): BatchNorm2d(1024, eps=1e-05, momentum=0.1, affine=True, track_running_stats=True)\n",
              "      (relu): ReLU(inplace=True)\n",
              "    )\n",
              "    (4): Bottleneck(\n",
              "      (conv1): Conv2d(1024, 256, kernel_size=(1, 1), stride=(1, 1), bias=False)\n",
              "      (bn1): BatchNorm2d(256, eps=1e-05, momentum=0.1, affine=True, track_running_stats=True)\n",
              "      (conv2): Conv2d(256, 256, kernel_size=(3, 3), stride=(1, 1), padding=(1, 1), bias=False)\n",
              "      (bn2): BatchNorm2d(256, eps=1e-05, momentum=0.1, affine=True, track_running_stats=True)\n",
              "      (conv3): Conv2d(256, 1024, kernel_size=(1, 1), stride=(1, 1), bias=False)\n",
              "      (bn3): BatchNorm2d(1024, eps=1e-05, momentum=0.1, affine=True, track_running_stats=True)\n",
              "      (relu): ReLU(inplace=True)\n",
              "    )\n",
              "    (5): Bottleneck(\n",
              "      (conv1): Conv2d(1024, 256, kernel_size=(1, 1), stride=(1, 1), bias=False)\n",
              "      (bn1): BatchNorm2d(256, eps=1e-05, momentum=0.1, affine=True, track_running_stats=True)\n",
              "      (conv2): Conv2d(256, 256, kernel_size=(3, 3), stride=(1, 1), padding=(1, 1), bias=False)\n",
              "      (bn2): BatchNorm2d(256, eps=1e-05, momentum=0.1, affine=True, track_running_stats=True)\n",
              "      (conv3): Conv2d(256, 1024, kernel_size=(1, 1), stride=(1, 1), bias=False)\n",
              "      (bn3): BatchNorm2d(1024, eps=1e-05, momentum=0.1, affine=True, track_running_stats=True)\n",
              "      (relu): ReLU(inplace=True)\n",
              "    )\n",
              "  )\n",
              "  (layer4): Sequential(\n",
              "    (0): Bottleneck(\n",
              "      (conv1): Conv2d(1024, 512, kernel_size=(1, 1), stride=(1, 1), bias=False)\n",
              "      (bn1): BatchNorm2d(512, eps=1e-05, momentum=0.1, affine=True, track_running_stats=True)\n",
              "      (conv2): Conv2d(512, 512, kernel_size=(3, 3), stride=(2, 2), padding=(1, 1), bias=False)\n",
              "      (bn2): BatchNorm2d(512, eps=1e-05, momentum=0.1, affine=True, track_running_stats=True)\n",
              "      (conv3): Conv2d(512, 2048, kernel_size=(1, 1), stride=(1, 1), bias=False)\n",
              "      (bn3): BatchNorm2d(2048, eps=1e-05, momentum=0.1, affine=True, track_running_stats=True)\n",
              "      (relu): ReLU(inplace=True)\n",
              "      (downsample): Sequential(\n",
              "        (0): Conv2d(1024, 2048, kernel_size=(1, 1), stride=(2, 2), bias=False)\n",
              "        (1): BatchNorm2d(2048, eps=1e-05, momentum=0.1, affine=True, track_running_stats=True)\n",
              "      )\n",
              "    )\n",
              "    (1): Bottleneck(\n",
              "      (conv1): Conv2d(2048, 512, kernel_size=(1, 1), stride=(1, 1), bias=False)\n",
              "      (bn1): BatchNorm2d(512, eps=1e-05, momentum=0.1, affine=True, track_running_stats=True)\n",
              "      (conv2): Conv2d(512, 512, kernel_size=(3, 3), stride=(1, 1), padding=(1, 1), bias=False)\n",
              "      (bn2): BatchNorm2d(512, eps=1e-05, momentum=0.1, affine=True, track_running_stats=True)\n",
              "      (conv3): Conv2d(512, 2048, kernel_size=(1, 1), stride=(1, 1), bias=False)\n",
              "      (bn3): BatchNorm2d(2048, eps=1e-05, momentum=0.1, affine=True, track_running_stats=True)\n",
              "      (relu): ReLU(inplace=True)\n",
              "    )\n",
              "    (2): Bottleneck(\n",
              "      (conv1): Conv2d(2048, 512, kernel_size=(1, 1), stride=(1, 1), bias=False)\n",
              "      (bn1): BatchNorm2d(512, eps=1e-05, momentum=0.1, affine=True, track_running_stats=True)\n",
              "      (conv2): Conv2d(512, 512, kernel_size=(3, 3), stride=(1, 1), padding=(1, 1), bias=False)\n",
              "      (bn2): BatchNorm2d(512, eps=1e-05, momentum=0.1, affine=True, track_running_stats=True)\n",
              "      (conv3): Conv2d(512, 2048, kernel_size=(1, 1), stride=(1, 1), bias=False)\n",
              "      (bn3): BatchNorm2d(2048, eps=1e-05, momentum=0.1, affine=True, track_running_stats=True)\n",
              "      (relu): ReLU(inplace=True)\n",
              "    )\n",
              "  )\n",
              "  (avgpool): AdaptiveAvgPool2d(output_size=(1, 1))\n",
              "  (fc): Linear(in_features=2048, out_features=19, bias=True)\n",
              ")"
            ]
          },
          "metadata": {},
          "execution_count": 36
        }
      ],
      "source": [
        "model.eval()"
      ]
    },
    {
      "cell_type": "code",
      "execution_count": 37,
      "metadata": {
        "id": "I65fR-69KcyF"
      },
      "outputs": [],
      "source": [
        "device = torch.device(\"cuda:0\" if torch.cuda.is_available() else \"cpu\")"
      ]
    },
    {
      "cell_type": "markdown",
      "metadata": {
        "id": "g9CAgesGNjBW"
      },
      "source": [
        "**Validating Subeset Data**"
      ]
    },
    {
      "cell_type": "code",
      "execution_count": 38,
      "metadata": {
        "id": "ESSrEhxZM_BF"
      },
      "outputs": [],
      "source": [
        "from torch.utils.data import Subset\n",
        "subset_indices = torch.randperm(len(valid_dataset))[:5000]\n",
        "subset_valid_dataset = Subset(valid_dataset, subset_indices)"
      ]
    },
    {
      "cell_type": "code",
      "execution_count": 39,
      "metadata": {
        "id": "kq9VYCC4L6E6",
        "colab": {
          "base_uri": "https://localhost:8080/"
        },
        "outputId": "beea846a-ffbf-429d-914e-c6de9c8131a0"
      },
      "outputs": [
        {
          "output_type": "execute_result",
          "data": {
            "text/plain": [
              "79"
            ]
          },
          "metadata": {},
          "execution_count": 39
        }
      ],
      "source": [
        "valid_dataloader = DataLoader(subset_valid_dataset, batch_size=bs)\n",
        "len(valid_dataloader)"
      ]
    },
    {
      "cell_type": "code",
      "execution_count": 40,
      "metadata": {
        "id": "Msy1H_ztJx_5",
        "colab": {
          "base_uri": "https://localhost:8080/"
        },
        "outputId": "c7e8d71c-ce03-481b-cc1b-92c6c9c05ff9"
      },
      "outputs": [
        {
          "output_type": "stream",
          "name": "stdout",
          "text": [
            "Test Accuracy: 0.9706000089645386\n"
          ]
        }
      ],
      "source": [
        "model.eval()\n",
        "\n",
        "all_predictions = []\n",
        "all_labels = []\n",
        "with torch.no_grad():\n",
        "    for inputs, labels in valid_dataloader:\n",
        "        # Move data to device if using GPU\n",
        "        inputs = inputs.to(device)\n",
        "        labels = labels.to(device)\n",
        "\n",
        "        # Forward pass\n",
        "        outputs = model(inputs)\n",
        "\n",
        "        # Append predictions and labels to the lists\n",
        "        all_predictions.extend(torch.argmax(outputs, dim=1).cpu().numpy())\n",
        "        all_labels.extend(labels.cpu().numpy())\n",
        "\n",
        "# Calculate accuracy, precision, recall, or any other metric as needed\n",
        "accuracy = (torch.tensor(all_predictions) == torch.tensor(all_labels)).float().mean().item()\n",
        "print(f\"Test Accuracy: {accuracy}\")\n"
      ]
    },
    {
      "cell_type": "code",
      "source": [
        "valid_dataloader = DataLoader(valid_dataset, batch_size=bs)\n",
        "len(valid_dataloader)"
      ],
      "metadata": {
        "colab": {
          "base_uri": "https://localhost:8080/"
        },
        "id": "GPbKBpACfKa9",
        "outputId": "c2662ecd-5aa7-4efe-fbfa-cda1e42e641e"
      },
      "execution_count": 41,
      "outputs": [
        {
          "output_type": "execute_result",
          "data": {
            "text/plain": [
              "241"
            ]
          },
          "metadata": {},
          "execution_count": 41
        }
      ]
    },
    {
      "cell_type": "code",
      "source": [
        "model.eval()\n",
        "\n",
        "all_predictions = []\n",
        "all_labels = []\n",
        "with torch.no_grad():\n",
        "    for inputs, labels in valid_dataloader:\n",
        "        # Move data to device if using GPU\n",
        "        inputs = inputs.to(device)\n",
        "        labels = labels.to(device)\n",
        "\n",
        "        # Forward pass\n",
        "        outputs = model(inputs)\n",
        "\n",
        "        # Append predictions and labels to the lists\n",
        "        all_predictions.extend(torch.argmax(outputs, dim=1).cpu().numpy())\n",
        "        all_labels.extend(labels.cpu().numpy())\n",
        "\n",
        "# Calculate accuracy, precision, recall, or any other metric as needed\n",
        "accuracy = (torch.tensor(all_predictions) == torch.tensor(all_labels)).float().mean().item()\n",
        "print(f\"Test Accuracy: {accuracy}\")\n"
      ],
      "metadata": {
        "colab": {
          "base_uri": "https://localhost:8080/"
        },
        "id": "OuXpCvJxfPbn",
        "outputId": "2a3a3bea-caa8-4932-a000-271e08ada607"
      },
      "execution_count": 42,
      "outputs": [
        {
          "output_type": "stream",
          "name": "stdout",
          "text": [
            "Test Accuracy: 0.9733966588973999\n"
          ]
        }
      ]
    },
    {
      "cell_type": "code",
      "source": [
        "import torch\n",
        "\n",
        "class_names = [\"three\", \"four\", \"peace\", \"one\", \"peace_inverted\", \"stop\", \"call\", \"no_gesture\", \"three2\", \"mute\", \"ok\", \"two_up_inverted\", \"fist\", \"two_up\", \"like\", \"dislike\", \"palm\", \"rock\", \"stop_inverted\"]\n",
        "\n",
        "use_cuda = torch.cuda.is_available()\n",
        "device = torch.device(\"cuda\" if use_cuda else \"cpu\")\n",
        "model.to(device)\n",
        "\n",
        "# Create a mapping from label indices to class names\n",
        "label_to_classname = {idx: name for idx, name in enumerate(class_names)}\n",
        "\n",
        "# Initialize dictionaries to store correct predictions and total instances per class\n",
        "correct_predictions = {classname: 0 for classname in class_names}\n",
        "total_instances = {classname: 0 for classname in class_names}\n",
        "\n",
        "all_predictions = []\n",
        "all_labels = []\n",
        "\n",
        "with torch.no_grad():\n",
        "    for inputs, labels in valid_dataloader:\n",
        "        inputs, labels = inputs.to(device), labels.to(device)\n",
        "\n",
        "        outputs = model(inputs)\n",
        "        predictions = torch.argmax(outputs, dim=1)\n",
        "\n",
        "        all_predictions.extend(predictions.cpu().numpy())\n",
        "        all_labels.extend(labels.cpu().numpy())\n",
        "\n",
        "        for label, prediction in zip(labels, predictions):\n",
        "            class_name = label_to_classname[label.item()]\n",
        "            if label == prediction:\n",
        "                correct_predictions[class_name] += 1\n",
        "            total_instances[class_name] += 1\n",
        "\n",
        "# Calculate accuracy for each class\n",
        "class_accuracies = {classname: correct / total for classname, correct, total in zip(class_names, correct_predictions.values(), total_instances.values()) if total > 0}\n",
        "\n",
        "# Calculate overall accuracy\n",
        "overall_accuracy = (torch.tensor(all_predictions) == torch.tensor(all_labels)).float().mean().item()\n",
        "\n",
        "print(\"Class Accuracies:\", class_accuracies)\n",
        "print(\"Overall Accuracy:\", overall_accuracy)\n"
      ],
      "metadata": {
        "colab": {
          "base_uri": "https://localhost:8080/"
        },
        "id": "bf5fdjUNjKlw",
        "outputId": "cfa1455d-5bdb-4e60-bb33-dd74fa8e3246"
      },
      "execution_count": 43,
      "outputs": [
        {
          "output_type": "stream",
          "name": "stdout",
          "text": [
            "Class Accuracies: {'three': 0.9878869448183042, 'four': 0.9772079772079773, 'peace': 0.9680555555555556, 'one': 0.9766536964980544, 'peace_inverted': 0.9743954480796586, 'stop': 0.9588068181818182, 'call': 0.9456681350954479, 'no_gesture': 0.9758522727272727, 'three2': 0.9829302987197724, 'mute': 0.9807407407407407, 'ok': 0.9773691654879774, 'two_up_inverted': 0.9474474474474475, 'fist': 0.978448275862069, 'two_up': 0.9737609329446064, 'like': 0.9703264094955489, 'dislike': 0.9733520336605891, 'palm': 0.9763313609467456, 'rock': 0.9684361549497847, 'stop_inverted': 0.9766483516483516}\n",
            "Overall Accuracy: 0.9733966588973999\n"
          ]
        }
      ]
    },
    {
      "cell_type": "code",
      "source": [
        "df_class_accuracies = pd.DataFrame(list(class_accuracies.items()), columns=['Class Name', 'Accuracy'])\n",
        "df_class_accuracies"
      ],
      "metadata": {
        "colab": {
          "base_uri": "https://localhost:8080/",
          "height": 645
        },
        "id": "rZSjfFXBjMHP",
        "outputId": "2b871e5a-7f4a-4a16-8f6a-e16f6c6ff14a"
      },
      "execution_count": 44,
      "outputs": [
        {
          "output_type": "execute_result",
          "data": {
            "text/plain": [
              "         Class Name  Accuracy\n",
              "0             three  0.987887\n",
              "1              four  0.977208\n",
              "2             peace  0.968056\n",
              "3               one  0.976654\n",
              "4    peace_inverted  0.974395\n",
              "5              stop  0.958807\n",
              "6              call  0.945668\n",
              "7        no_gesture  0.975852\n",
              "8            three2  0.982930\n",
              "9              mute  0.980741\n",
              "10               ok  0.977369\n",
              "11  two_up_inverted  0.947447\n",
              "12             fist  0.978448\n",
              "13           two_up  0.973761\n",
              "14             like  0.970326\n",
              "15          dislike  0.973352\n",
              "16             palm  0.976331\n",
              "17             rock  0.968436\n",
              "18    stop_inverted  0.976648"
            ],
            "text/html": [
              "\n",
              "  <div id=\"df-3ede1cee-d620-410e-b7ef-4ba7edac18c5\" class=\"colab-df-container\">\n",
              "    <div>\n",
              "<style scoped>\n",
              "    .dataframe tbody tr th:only-of-type {\n",
              "        vertical-align: middle;\n",
              "    }\n",
              "\n",
              "    .dataframe tbody tr th {\n",
              "        vertical-align: top;\n",
              "    }\n",
              "\n",
              "    .dataframe thead th {\n",
              "        text-align: right;\n",
              "    }\n",
              "</style>\n",
              "<table border=\"1\" class=\"dataframe\">\n",
              "  <thead>\n",
              "    <tr style=\"text-align: right;\">\n",
              "      <th></th>\n",
              "      <th>Class Name</th>\n",
              "      <th>Accuracy</th>\n",
              "    </tr>\n",
              "  </thead>\n",
              "  <tbody>\n",
              "    <tr>\n",
              "      <th>0</th>\n",
              "      <td>three</td>\n",
              "      <td>0.987887</td>\n",
              "    </tr>\n",
              "    <tr>\n",
              "      <th>1</th>\n",
              "      <td>four</td>\n",
              "      <td>0.977208</td>\n",
              "    </tr>\n",
              "    <tr>\n",
              "      <th>2</th>\n",
              "      <td>peace</td>\n",
              "      <td>0.968056</td>\n",
              "    </tr>\n",
              "    <tr>\n",
              "      <th>3</th>\n",
              "      <td>one</td>\n",
              "      <td>0.976654</td>\n",
              "    </tr>\n",
              "    <tr>\n",
              "      <th>4</th>\n",
              "      <td>peace_inverted</td>\n",
              "      <td>0.974395</td>\n",
              "    </tr>\n",
              "    <tr>\n",
              "      <th>5</th>\n",
              "      <td>stop</td>\n",
              "      <td>0.958807</td>\n",
              "    </tr>\n",
              "    <tr>\n",
              "      <th>6</th>\n",
              "      <td>call</td>\n",
              "      <td>0.945668</td>\n",
              "    </tr>\n",
              "    <tr>\n",
              "      <th>7</th>\n",
              "      <td>no_gesture</td>\n",
              "      <td>0.975852</td>\n",
              "    </tr>\n",
              "    <tr>\n",
              "      <th>8</th>\n",
              "      <td>three2</td>\n",
              "      <td>0.982930</td>\n",
              "    </tr>\n",
              "    <tr>\n",
              "      <th>9</th>\n",
              "      <td>mute</td>\n",
              "      <td>0.980741</td>\n",
              "    </tr>\n",
              "    <tr>\n",
              "      <th>10</th>\n",
              "      <td>ok</td>\n",
              "      <td>0.977369</td>\n",
              "    </tr>\n",
              "    <tr>\n",
              "      <th>11</th>\n",
              "      <td>two_up_inverted</td>\n",
              "      <td>0.947447</td>\n",
              "    </tr>\n",
              "    <tr>\n",
              "      <th>12</th>\n",
              "      <td>fist</td>\n",
              "      <td>0.978448</td>\n",
              "    </tr>\n",
              "    <tr>\n",
              "      <th>13</th>\n",
              "      <td>two_up</td>\n",
              "      <td>0.973761</td>\n",
              "    </tr>\n",
              "    <tr>\n",
              "      <th>14</th>\n",
              "      <td>like</td>\n",
              "      <td>0.970326</td>\n",
              "    </tr>\n",
              "    <tr>\n",
              "      <th>15</th>\n",
              "      <td>dislike</td>\n",
              "      <td>0.973352</td>\n",
              "    </tr>\n",
              "    <tr>\n",
              "      <th>16</th>\n",
              "      <td>palm</td>\n",
              "      <td>0.976331</td>\n",
              "    </tr>\n",
              "    <tr>\n",
              "      <th>17</th>\n",
              "      <td>rock</td>\n",
              "      <td>0.968436</td>\n",
              "    </tr>\n",
              "    <tr>\n",
              "      <th>18</th>\n",
              "      <td>stop_inverted</td>\n",
              "      <td>0.976648</td>\n",
              "    </tr>\n",
              "  </tbody>\n",
              "</table>\n",
              "</div>\n",
              "    <div class=\"colab-df-buttons\">\n",
              "\n",
              "  <div class=\"colab-df-container\">\n",
              "    <button class=\"colab-df-convert\" onclick=\"convertToInteractive('df-3ede1cee-d620-410e-b7ef-4ba7edac18c5')\"\n",
              "            title=\"Convert this dataframe to an interactive table.\"\n",
              "            style=\"display:none;\">\n",
              "\n",
              "  <svg xmlns=\"http://www.w3.org/2000/svg\" height=\"24px\" viewBox=\"0 -960 960 960\">\n",
              "    <path d=\"M120-120v-720h720v720H120Zm60-500h600v-160H180v160Zm220 220h160v-160H400v160Zm0 220h160v-160H400v160ZM180-400h160v-160H180v160Zm440 0h160v-160H620v160ZM180-180h160v-160H180v160Zm440 0h160v-160H620v160Z\"/>\n",
              "  </svg>\n",
              "    </button>\n",
              "\n",
              "  <style>\n",
              "    .colab-df-container {\n",
              "      display:flex;\n",
              "      gap: 12px;\n",
              "    }\n",
              "\n",
              "    .colab-df-convert {\n",
              "      background-color: #E8F0FE;\n",
              "      border: none;\n",
              "      border-radius: 50%;\n",
              "      cursor: pointer;\n",
              "      display: none;\n",
              "      fill: #1967D2;\n",
              "      height: 32px;\n",
              "      padding: 0 0 0 0;\n",
              "      width: 32px;\n",
              "    }\n",
              "\n",
              "    .colab-df-convert:hover {\n",
              "      background-color: #E2EBFA;\n",
              "      box-shadow: 0px 1px 2px rgba(60, 64, 67, 0.3), 0px 1px 3px 1px rgba(60, 64, 67, 0.15);\n",
              "      fill: #174EA6;\n",
              "    }\n",
              "\n",
              "    .colab-df-buttons div {\n",
              "      margin-bottom: 4px;\n",
              "    }\n",
              "\n",
              "    [theme=dark] .colab-df-convert {\n",
              "      background-color: #3B4455;\n",
              "      fill: #D2E3FC;\n",
              "    }\n",
              "\n",
              "    [theme=dark] .colab-df-convert:hover {\n",
              "      background-color: #434B5C;\n",
              "      box-shadow: 0px 1px 3px 1px rgba(0, 0, 0, 0.15);\n",
              "      filter: drop-shadow(0px 1px 2px rgba(0, 0, 0, 0.3));\n",
              "      fill: #FFFFFF;\n",
              "    }\n",
              "  </style>\n",
              "\n",
              "    <script>\n",
              "      const buttonEl =\n",
              "        document.querySelector('#df-3ede1cee-d620-410e-b7ef-4ba7edac18c5 button.colab-df-convert');\n",
              "      buttonEl.style.display =\n",
              "        google.colab.kernel.accessAllowed ? 'block' : 'none';\n",
              "\n",
              "      async function convertToInteractive(key) {\n",
              "        const element = document.querySelector('#df-3ede1cee-d620-410e-b7ef-4ba7edac18c5');\n",
              "        const dataTable =\n",
              "          await google.colab.kernel.invokeFunction('convertToInteractive',\n",
              "                                                    [key], {});\n",
              "        if (!dataTable) return;\n",
              "\n",
              "        const docLinkHtml = 'Like what you see? Visit the ' +\n",
              "          '<a target=\"_blank\" href=https://colab.research.google.com/notebooks/data_table.ipynb>data table notebook</a>'\n",
              "          + ' to learn more about interactive tables.';\n",
              "        element.innerHTML = '';\n",
              "        dataTable['output_type'] = 'display_data';\n",
              "        await google.colab.output.renderOutput(dataTable, element);\n",
              "        const docLink = document.createElement('div');\n",
              "        docLink.innerHTML = docLinkHtml;\n",
              "        element.appendChild(docLink);\n",
              "      }\n",
              "    </script>\n",
              "  </div>\n",
              "\n",
              "\n",
              "<div id=\"df-197a2d0f-4d9c-44f1-9771-d66c67bcbea9\">\n",
              "  <button class=\"colab-df-quickchart\" onclick=\"quickchart('df-197a2d0f-4d9c-44f1-9771-d66c67bcbea9')\"\n",
              "            title=\"Suggest charts\"\n",
              "            style=\"display:none;\">\n",
              "\n",
              "<svg xmlns=\"http://www.w3.org/2000/svg\" height=\"24px\"viewBox=\"0 0 24 24\"\n",
              "     width=\"24px\">\n",
              "    <g>\n",
              "        <path d=\"M19 3H5c-1.1 0-2 .9-2 2v14c0 1.1.9 2 2 2h14c1.1 0 2-.9 2-2V5c0-1.1-.9-2-2-2zM9 17H7v-7h2v7zm4 0h-2V7h2v10zm4 0h-2v-4h2v4z\"/>\n",
              "    </g>\n",
              "</svg>\n",
              "  </button>\n",
              "\n",
              "<style>\n",
              "  .colab-df-quickchart {\n",
              "      --bg-color: #E8F0FE;\n",
              "      --fill-color: #1967D2;\n",
              "      --hover-bg-color: #E2EBFA;\n",
              "      --hover-fill-color: #174EA6;\n",
              "      --disabled-fill-color: #AAA;\n",
              "      --disabled-bg-color: #DDD;\n",
              "  }\n",
              "\n",
              "  [theme=dark] .colab-df-quickchart {\n",
              "      --bg-color: #3B4455;\n",
              "      --fill-color: #D2E3FC;\n",
              "      --hover-bg-color: #434B5C;\n",
              "      --hover-fill-color: #FFFFFF;\n",
              "      --disabled-bg-color: #3B4455;\n",
              "      --disabled-fill-color: #666;\n",
              "  }\n",
              "\n",
              "  .colab-df-quickchart {\n",
              "    background-color: var(--bg-color);\n",
              "    border: none;\n",
              "    border-radius: 50%;\n",
              "    cursor: pointer;\n",
              "    display: none;\n",
              "    fill: var(--fill-color);\n",
              "    height: 32px;\n",
              "    padding: 0;\n",
              "    width: 32px;\n",
              "  }\n",
              "\n",
              "  .colab-df-quickchart:hover {\n",
              "    background-color: var(--hover-bg-color);\n",
              "    box-shadow: 0 1px 2px rgba(60, 64, 67, 0.3), 0 1px 3px 1px rgba(60, 64, 67, 0.15);\n",
              "    fill: var(--button-hover-fill-color);\n",
              "  }\n",
              "\n",
              "  .colab-df-quickchart-complete:disabled,\n",
              "  .colab-df-quickchart-complete:disabled:hover {\n",
              "    background-color: var(--disabled-bg-color);\n",
              "    fill: var(--disabled-fill-color);\n",
              "    box-shadow: none;\n",
              "  }\n",
              "\n",
              "  .colab-df-spinner {\n",
              "    border: 2px solid var(--fill-color);\n",
              "    border-color: transparent;\n",
              "    border-bottom-color: var(--fill-color);\n",
              "    animation:\n",
              "      spin 1s steps(1) infinite;\n",
              "  }\n",
              "\n",
              "  @keyframes spin {\n",
              "    0% {\n",
              "      border-color: transparent;\n",
              "      border-bottom-color: var(--fill-color);\n",
              "      border-left-color: var(--fill-color);\n",
              "    }\n",
              "    20% {\n",
              "      border-color: transparent;\n",
              "      border-left-color: var(--fill-color);\n",
              "      border-top-color: var(--fill-color);\n",
              "    }\n",
              "    30% {\n",
              "      border-color: transparent;\n",
              "      border-left-color: var(--fill-color);\n",
              "      border-top-color: var(--fill-color);\n",
              "      border-right-color: var(--fill-color);\n",
              "    }\n",
              "    40% {\n",
              "      border-color: transparent;\n",
              "      border-right-color: var(--fill-color);\n",
              "      border-top-color: var(--fill-color);\n",
              "    }\n",
              "    60% {\n",
              "      border-color: transparent;\n",
              "      border-right-color: var(--fill-color);\n",
              "    }\n",
              "    80% {\n",
              "      border-color: transparent;\n",
              "      border-right-color: var(--fill-color);\n",
              "      border-bottom-color: var(--fill-color);\n",
              "    }\n",
              "    90% {\n",
              "      border-color: transparent;\n",
              "      border-bottom-color: var(--fill-color);\n",
              "    }\n",
              "  }\n",
              "</style>\n",
              "\n",
              "  <script>\n",
              "    async function quickchart(key) {\n",
              "      const quickchartButtonEl =\n",
              "        document.querySelector('#' + key + ' button');\n",
              "      quickchartButtonEl.disabled = true;  // To prevent multiple clicks.\n",
              "      quickchartButtonEl.classList.add('colab-df-spinner');\n",
              "      try {\n",
              "        const charts = await google.colab.kernel.invokeFunction(\n",
              "            'suggestCharts', [key], {});\n",
              "      } catch (error) {\n",
              "        console.error('Error during call to suggestCharts:', error);\n",
              "      }\n",
              "      quickchartButtonEl.classList.remove('colab-df-spinner');\n",
              "      quickchartButtonEl.classList.add('colab-df-quickchart-complete');\n",
              "    }\n",
              "    (() => {\n",
              "      let quickchartButtonEl =\n",
              "        document.querySelector('#df-197a2d0f-4d9c-44f1-9771-d66c67bcbea9 button');\n",
              "      quickchartButtonEl.style.display =\n",
              "        google.colab.kernel.accessAllowed ? 'block' : 'none';\n",
              "    })();\n",
              "  </script>\n",
              "</div>\n",
              "    </div>\n",
              "  </div>\n"
            ]
          },
          "metadata": {},
          "execution_count": 44
        }
      ]
    }
  ],
  "metadata": {
    "accelerator": "GPU",
    "colab": {
      "machine_shape": "hm",
      "provenance": [],
      "gpuType": "T4"
    },
    "kernelspec": {
      "display_name": "Python 3",
      "name": "python3"
    },
    "language_info": {
      "name": "python"
    }
  },
  "nbformat": 4,
  "nbformat_minor": 0
}